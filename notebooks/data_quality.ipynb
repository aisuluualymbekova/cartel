{
 "cells": [
  {
   "cell_type": "code",
   "execution_count": 8,
   "metadata": {},
   "outputs": [
    {
     "name": "stdout",
     "output_type": "stream",
     "text": [
      "2020-03-11 12:21:39,371 - kedro.io.data_catalog - INFO - Loading data from `sf_location` (CSVDataSet)...\n"
     ]
    },
    {
     "data": {
      "text/html": [
       "<div>\n",
       "<style scoped>\n",
       "    .dataframe tbody tr th:only-of-type {\n",
       "        vertical-align: middle;\n",
       "    }\n",
       "\n",
       "    .dataframe tbody tr th {\n",
       "        vertical-align: top;\n",
       "    }\n",
       "\n",
       "    .dataframe thead th {\n",
       "        text-align: right;\n",
       "    }\n",
       "</style>\n",
       "<table border=\"1\" class=\"dataframe\">\n",
       "  <thead>\n",
       "    <tr style=\"text-align: right;\">\n",
       "      <th></th>\n",
       "      <th>position_id</th>\n",
       "      <th>driver_id</th>\n",
       "      <th>latitude</th>\n",
       "      <th>longitude</th>\n",
       "      <th>time</th>\n",
       "      <th>source</th>\n",
       "    </tr>\n",
       "  </thead>\n",
       "  <tbody>\n",
       "    <tr>\n",
       "      <th>0</th>\n",
       "      <td>0</td>\n",
       "      <td>adkavy</td>\n",
       "      <td>37.61549</td>\n",
       "      <td>-122.38821</td>\n",
       "      <td>1.213037e+12</td>\n",
       "      <td>San_Francisco</td>\n",
       "    </tr>\n",
       "    <tr>\n",
       "      <th>1</th>\n",
       "      <td>1</td>\n",
       "      <td>adkavy</td>\n",
       "      <td>37.61562</td>\n",
       "      <td>-122.38849</td>\n",
       "      <td>1.213037e+12</td>\n",
       "      <td>San_Francisco</td>\n",
       "    </tr>\n",
       "    <tr>\n",
       "      <th>2</th>\n",
       "      <td>2</td>\n",
       "      <td>adkavy</td>\n",
       "      <td>37.61518</td>\n",
       "      <td>-122.39029</td>\n",
       "      <td>1.213037e+12</td>\n",
       "      <td>San_Francisco</td>\n",
       "    </tr>\n",
       "    <tr>\n",
       "      <th>3</th>\n",
       "      <td>3</td>\n",
       "      <td>adkavy</td>\n",
       "      <td>37.61393</td>\n",
       "      <td>-122.39508</td>\n",
       "      <td>1.213037e+12</td>\n",
       "      <td>San_Francisco</td>\n",
       "    </tr>\n",
       "    <tr>\n",
       "      <th>4</th>\n",
       "      <td>4</td>\n",
       "      <td>adkavy</td>\n",
       "      <td>37.60493</td>\n",
       "      <td>-122.38362</td>\n",
       "      <td>1.213037e+12</td>\n",
       "      <td>San_Francisco</td>\n",
       "    </tr>\n",
       "  </tbody>\n",
       "</table>\n",
       "</div>"
      ],
      "text/plain": [
       "   position_id driver_id  latitude  longitude          time         source\n",
       "0            0    adkavy  37.61549 -122.38821  1.213037e+12  San_Francisco\n",
       "1            1    adkavy  37.61562 -122.38849  1.213037e+12  San_Francisco\n",
       "2            2    adkavy  37.61518 -122.39029  1.213037e+12  San_Francisco\n",
       "3            3    adkavy  37.61393 -122.39508  1.213037e+12  San_Francisco\n",
       "4            4    adkavy  37.60493 -122.38362  1.213037e+12  San_Francisco"
      ]
     },
     "execution_count": 8,
     "metadata": {},
     "output_type": "execute_result"
    }
   ],
   "source": [
    "sf_location = catalog.load(\"sf_location\")\n",
    "#preprocessed_companies = catalog.load(\"preprocessed_companies\")\n",
    "#reviews = catalog.load(\"reviews\")\n",
    "\n",
    "#master = create_master_table(preprocessed_shuttles, preprocessed_companies, reviews)\n",
    "sf_location.head()"
   ]
  },
  {
   "cell_type": "code",
   "execution_count": 2,
   "metadata": {},
   "outputs": [],
   "source": [
    "import pandas as pd\n",
    "import numpy as np\n",
    "import pandas_profiling"
   ]
  },
  {
   "cell_type": "code",
   "execution_count": 3,
   "metadata": {},
   "outputs": [
    {
     "name": "stdout",
     "output_type": "stream",
     "text": [
      "          position_id driver_id  latitude  longitude           time  \\\n",
      "0                   0    adkavy  37.61549 -122.38821  1213037028000   \n",
      "1                   1    adkavy  37.61562 -122.38849  1213036968000   \n",
      "2                   2    adkavy  37.61518 -122.39029  1213036903000   \n",
      "3                   3    adkavy  37.61393 -122.39508  1213036843000   \n",
      "4                   4    adkavy  37.60493 -122.38362  1213036783000   \n",
      "...               ...       ...       ...        ...            ...   \n",
      "11219950     11219950  aducrisi  37.76247 -122.39555  1211055456000   \n",
      "11219951     11219951  aducrisi  37.76116 -122.39350  1211055391000   \n",
      "11219952     11219952  aducrisi  37.76039 -122.39338  1211055343000   \n",
      "11219953     11219953  aducrisi  37.75488 -122.39287  1211055282000   \n",
      "11219954     11219954  aducrisi  37.74995 -122.39262  1211055222000   \n",
      "\n",
      "                 source            datetime  \n",
      "0         San_Francisco 2008-06-09 18:43:48  \n",
      "1         San_Francisco 2008-06-09 18:42:48  \n",
      "2         San_Francisco 2008-06-09 18:41:43  \n",
      "3         San_Francisco 2008-06-09 18:40:43  \n",
      "4         San_Francisco 2008-06-09 18:39:43  \n",
      "...                 ...                 ...  \n",
      "11219950  San_Francisco 2008-05-17 20:17:36  \n",
      "11219951  San_Francisco 2008-05-17 20:16:31  \n",
      "11219952  San_Francisco 2008-05-17 20:15:43  \n",
      "11219953  San_Francisco 2008-05-17 20:14:42  \n",
      "11219954  San_Francisco 2008-05-17 20:13:42  \n",
      "\n",
      "[11219955 rows x 7 columns]\n"
     ]
    }
   ],
   "source": [
    "#converting unix timestamp to datetime format\n",
    "\n",
    "sf_location['datetime'] = pd.to_datetime(sf_location['time'],unit='ms')\n",
    "print(sf_location)"
   ]
  },
  {
   "cell_type": "code",
   "execution_count": 6,
   "metadata": {},
   "outputs": [
    {
     "data": {
      "text/html": [
       "<div>\n",
       "<style scoped>\n",
       "    .dataframe tbody tr th:only-of-type {\n",
       "        vertical-align: middle;\n",
       "    }\n",
       "\n",
       "    .dataframe tbody tr th {\n",
       "        vertical-align: top;\n",
       "    }\n",
       "\n",
       "    .dataframe thead th {\n",
       "        text-align: right;\n",
       "    }\n",
       "</style>\n",
       "<table border=\"1\" class=\"dataframe\">\n",
       "  <thead>\n",
       "    <tr style=\"text-align: right;\">\n",
       "      <th></th>\n",
       "      <th>position_id</th>\n",
       "      <th>driver_id</th>\n",
       "      <th>latitude</th>\n",
       "      <th>longitude</th>\n",
       "      <th>time</th>\n",
       "      <th>source</th>\n",
       "      <th>datetime</th>\n",
       "    </tr>\n",
       "  </thead>\n",
       "  <tbody>\n",
       "    <tr>\n",
       "      <th>0</th>\n",
       "      <td>0</td>\n",
       "      <td>adkavy</td>\n",
       "      <td>37.61549</td>\n",
       "      <td>-122.38821</td>\n",
       "      <td>1213037028000</td>\n",
       "      <td>San_Francisco</td>\n",
       "      <td>2008-06-09 18:43:48</td>\n",
       "    </tr>\n",
       "    <tr>\n",
       "      <th>1</th>\n",
       "      <td>1</td>\n",
       "      <td>adkavy</td>\n",
       "      <td>37.61562</td>\n",
       "      <td>-122.38849</td>\n",
       "      <td>1213036968000</td>\n",
       "      <td>San_Francisco</td>\n",
       "      <td>2008-06-09 18:42:48</td>\n",
       "    </tr>\n",
       "    <tr>\n",
       "      <th>2</th>\n",
       "      <td>2</td>\n",
       "      <td>adkavy</td>\n",
       "      <td>37.61518</td>\n",
       "      <td>-122.39029</td>\n",
       "      <td>1213036903000</td>\n",
       "      <td>San_Francisco</td>\n",
       "      <td>2008-06-09 18:41:43</td>\n",
       "    </tr>\n",
       "    <tr>\n",
       "      <th>3</th>\n",
       "      <td>3</td>\n",
       "      <td>adkavy</td>\n",
       "      <td>37.61393</td>\n",
       "      <td>-122.39508</td>\n",
       "      <td>1213036843000</td>\n",
       "      <td>San_Francisco</td>\n",
       "      <td>2008-06-09 18:40:43</td>\n",
       "    </tr>\n",
       "    <tr>\n",
       "      <th>4</th>\n",
       "      <td>4</td>\n",
       "      <td>adkavy</td>\n",
       "      <td>37.60493</td>\n",
       "      <td>-122.38362</td>\n",
       "      <td>1213036783000</td>\n",
       "      <td>San_Francisco</td>\n",
       "      <td>2008-06-09 18:39:43</td>\n",
       "    </tr>\n",
       "    <tr>\n",
       "      <th>...</th>\n",
       "      <td>...</td>\n",
       "      <td>...</td>\n",
       "      <td>...</td>\n",
       "      <td>...</td>\n",
       "      <td>...</td>\n",
       "      <td>...</td>\n",
       "      <td>...</td>\n",
       "    </tr>\n",
       "    <tr>\n",
       "      <th>11219950</th>\n",
       "      <td>11219950</td>\n",
       "      <td>aducrisi</td>\n",
       "      <td>37.76247</td>\n",
       "      <td>-122.39555</td>\n",
       "      <td>1211055456000</td>\n",
       "      <td>San_Francisco</td>\n",
       "      <td>2008-05-17 20:17:36</td>\n",
       "    </tr>\n",
       "    <tr>\n",
       "      <th>11219951</th>\n",
       "      <td>11219951</td>\n",
       "      <td>aducrisi</td>\n",
       "      <td>37.76116</td>\n",
       "      <td>-122.39350</td>\n",
       "      <td>1211055391000</td>\n",
       "      <td>San_Francisco</td>\n",
       "      <td>2008-05-17 20:16:31</td>\n",
       "    </tr>\n",
       "    <tr>\n",
       "      <th>11219952</th>\n",
       "      <td>11219952</td>\n",
       "      <td>aducrisi</td>\n",
       "      <td>37.76039</td>\n",
       "      <td>-122.39338</td>\n",
       "      <td>1211055343000</td>\n",
       "      <td>San_Francisco</td>\n",
       "      <td>2008-05-17 20:15:43</td>\n",
       "    </tr>\n",
       "    <tr>\n",
       "      <th>11219953</th>\n",
       "      <td>11219953</td>\n",
       "      <td>aducrisi</td>\n",
       "      <td>37.75488</td>\n",
       "      <td>-122.39287</td>\n",
       "      <td>1211055282000</td>\n",
       "      <td>San_Francisco</td>\n",
       "      <td>2008-05-17 20:14:42</td>\n",
       "    </tr>\n",
       "    <tr>\n",
       "      <th>11219954</th>\n",
       "      <td>11219954</td>\n",
       "      <td>aducrisi</td>\n",
       "      <td>37.74995</td>\n",
       "      <td>-122.39262</td>\n",
       "      <td>1211055222000</td>\n",
       "      <td>San_Francisco</td>\n",
       "      <td>2008-05-17 20:13:42</td>\n",
       "    </tr>\n",
       "  </tbody>\n",
       "</table>\n",
       "<p>11219955 rows × 7 columns</p>\n",
       "</div>"
      ],
      "text/plain": [
       "          position_id driver_id  latitude  longitude           time  \\\n",
       "0                   0    adkavy  37.61549 -122.38821  1213037028000   \n",
       "1                   1    adkavy  37.61562 -122.38849  1213036968000   \n",
       "2                   2    adkavy  37.61518 -122.39029  1213036903000   \n",
       "3                   3    adkavy  37.61393 -122.39508  1213036843000   \n",
       "4                   4    adkavy  37.60493 -122.38362  1213036783000   \n",
       "...               ...       ...       ...        ...            ...   \n",
       "11219950     11219950  aducrisi  37.76247 -122.39555  1211055456000   \n",
       "11219951     11219951  aducrisi  37.76116 -122.39350  1211055391000   \n",
       "11219952     11219952  aducrisi  37.76039 -122.39338  1211055343000   \n",
       "11219953     11219953  aducrisi  37.75488 -122.39287  1211055282000   \n",
       "11219954     11219954  aducrisi  37.74995 -122.39262  1211055222000   \n",
       "\n",
       "                 source            datetime  \n",
       "0         San_Francisco 2008-06-09 18:43:48  \n",
       "1         San_Francisco 2008-06-09 18:42:48  \n",
       "2         San_Francisco 2008-06-09 18:41:43  \n",
       "3         San_Francisco 2008-06-09 18:40:43  \n",
       "4         San_Francisco 2008-06-09 18:39:43  \n",
       "...                 ...                 ...  \n",
       "11219950  San_Francisco 2008-05-17 20:17:36  \n",
       "11219951  San_Francisco 2008-05-17 20:16:31  \n",
       "11219952  San_Francisco 2008-05-17 20:15:43  \n",
       "11219953  San_Francisco 2008-05-17 20:14:42  \n",
       "11219954  San_Francisco 2008-05-17 20:13:42  \n",
       "\n",
       "[11219955 rows x 7 columns]"
      ]
     },
     "execution_count": 6,
     "metadata": {},
     "output_type": "execute_result"
    }
   ],
   "source": [
    "sf_location"
   ]
  },
  {
   "cell_type": "code",
   "execution_count": 7,
   "metadata": {},
   "outputs": [
    {
     "data": {
      "text/plain": [
       "pandas.core.frame.DataFrame"
      ]
     },
     "execution_count": 7,
     "metadata": {},
     "output_type": "execute_result"
    }
   ],
   "source": [
    "type(sf_location)"
   ]
  },
  {
   "cell_type": "code",
   "execution_count": 8,
   "metadata": {},
   "outputs": [
    {
     "data": {
      "text/plain": [
       "position_id    11219955\n",
       "driver_id           536\n",
       "latitude          59952\n",
       "longitude         51384\n",
       "time            2023603\n",
       "source                1\n",
       "datetime        2023603\n",
       "dtype: int64"
      ]
     },
     "execution_count": 8,
     "metadata": {},
     "output_type": "execute_result"
    }
   ],
   "source": [
    "#disctinct values\n",
    "sf_location.nunique()"
   ]
  },
  {
   "cell_type": "code",
   "execution_count": 9,
   "metadata": {},
   "outputs": [
    {
     "name": "stdout",
     "output_type": "stream",
     "text": [
      "2020-03-11 10:42:25,166 - numexpr.utils - INFO - Note: NumExpr detected 16 cores but \"NUMEXPR_MAX_THREADS\" not set, so enforcing safe limit of 8.\n",
      "2020-03-11 10:42:25,167 - numexpr.utils - INFO - NumExpr defaulting to 8 threads.\n"
     ]
    },
    {
     "data": {
      "text/plain": [
       "position_id    0.0\n",
       "driver_id      0.0\n",
       "latitude       0.0\n",
       "longitude      0.0\n",
       "time           0.0\n",
       "source         0.0\n",
       "datetime       0.0\n",
       "dtype: float64"
      ]
     },
     "execution_count": 9,
     "metadata": {},
     "output_type": "execute_result"
    }
   ],
   "source": [
    "#% of missing values\n",
    "percent_missing = sf_location.isnull().sum() * 100 / len(sf_location)\n",
    "percent_missing"
   ]
  },
  {
   "cell_type": "code",
   "execution_count": 26,
   "metadata": {},
   "outputs": [
    {
     "data": {
      "text/plain": [
       "position_id    0\n",
       "driver_id      0\n",
       "latitude       0\n",
       "longitude      0\n",
       "time           0\n",
       "source         0\n",
       "dtype: int64"
      ]
     },
     "execution_count": 26,
     "metadata": {},
     "output_type": "execute_result"
    }
   ],
   "source": [
    "sf_location.isnull().sum()"
   ]
  },
  {
   "cell_type": "code",
   "execution_count": 40,
   "metadata": {},
   "outputs": [
    {
     "name": "stdout",
     "output_type": "stream",
     "text": [
      "<class 'pandas.core.frame.DataFrame'>\n",
      "RangeIndex: 11219955 entries, 0 to 11219954\n",
      "Data columns (total 7 columns):\n",
      "position_id    int64\n",
      "driver_id      object\n",
      "latitude       float64\n",
      "longitude      float64\n",
      "time           int64\n",
      "source         object\n",
      "datetime       datetime64[ns]\n",
      "dtypes: datetime64[ns](1), float64(2), int64(2), object(2)\n",
      "memory usage: 599.2+ MB\n"
     ]
    }
   ],
   "source": [
    "sf_location.info()"
   ]
  },
  {
   "cell_type": "code",
   "execution_count": 15,
   "metadata": {},
   "outputs": [
    {
     "data": {
      "text/plain": [
       "49367"
      ]
     },
     "execution_count": 15,
     "metadata": {},
     "output_type": "execute_result"
    }
   ],
   "source": [
    "#No of most frequent values\n",
    "sf_location['driver_id'].value_counts().max()  "
   ]
  },
  {
   "cell_type": "code",
   "execution_count": 16,
   "metadata": {},
   "outputs": [
    {
     "data": {
      "text/plain": [
       "'upthin'"
      ]
     },
     "execution_count": 16,
     "metadata": {},
     "output_type": "execute_result"
    }
   ],
   "source": [
    "#Most frequent driver id\n",
    "sf_location['driver_id'].value_counts().idxmax()"
   ]
  },
  {
   "cell_type": "code",
   "execution_count": 23,
   "metadata": {},
   "outputs": [
    {
     "data": {
      "text/html": [
       "<div>\n",
       "<style scoped>\n",
       "    .dataframe tbody tr th:only-of-type {\n",
       "        vertical-align: middle;\n",
       "    }\n",
       "\n",
       "    .dataframe tbody tr th {\n",
       "        vertical-align: top;\n",
       "    }\n",
       "\n",
       "    .dataframe thead th {\n",
       "        text-align: right;\n",
       "    }\n",
       "</style>\n",
       "<table border=\"1\" class=\"dataframe\">\n",
       "  <thead>\n",
       "    <tr style=\"text-align: right;\">\n",
       "      <th></th>\n",
       "      <th>position_id</th>\n",
       "      <th>driver_id</th>\n",
       "      <th>latitude</th>\n",
       "      <th>longitude</th>\n",
       "      <th>time</th>\n",
       "      <th>source</th>\n",
       "    </tr>\n",
       "  </thead>\n",
       "  <tbody>\n",
       "    <tr>\n",
       "      <th>310698</th>\n",
       "      <td>310698</td>\n",
       "      <td>upthin</td>\n",
       "      <td>37.78611</td>\n",
       "      <td>-122.45610</td>\n",
       "      <td>1213038835000</td>\n",
       "      <td>San_Francisco</td>\n",
       "    </tr>\n",
       "    <tr>\n",
       "      <th>310699</th>\n",
       "      <td>310699</td>\n",
       "      <td>upthin</td>\n",
       "      <td>37.78611</td>\n",
       "      <td>-122.45610</td>\n",
       "      <td>1213038833000</td>\n",
       "      <td>San_Francisco</td>\n",
       "    </tr>\n",
       "    <tr>\n",
       "      <th>310700</th>\n",
       "      <td>310700</td>\n",
       "      <td>upthin</td>\n",
       "      <td>37.77283</td>\n",
       "      <td>-122.41278</td>\n",
       "      <td>1213038830000</td>\n",
       "      <td>San_Francisco</td>\n",
       "    </tr>\n",
       "    <tr>\n",
       "      <th>310701</th>\n",
       "      <td>310701</td>\n",
       "      <td>upthin</td>\n",
       "      <td>37.78674</td>\n",
       "      <td>-122.45509</td>\n",
       "      <td>1213038773000</td>\n",
       "      <td>San_Francisco</td>\n",
       "    </tr>\n",
       "    <tr>\n",
       "      <th>310702</th>\n",
       "      <td>310702</td>\n",
       "      <td>upthin</td>\n",
       "      <td>37.77059</td>\n",
       "      <td>-122.41517</td>\n",
       "      <td>1213038749000</td>\n",
       "      <td>San_Francisco</td>\n",
       "    </tr>\n",
       "    <tr>\n",
       "      <th>...</th>\n",
       "      <td>...</td>\n",
       "      <td>...</td>\n",
       "      <td>...</td>\n",
       "      <td>...</td>\n",
       "      <td>...</td>\n",
       "      <td>...</td>\n",
       "    </tr>\n",
       "    <tr>\n",
       "      <th>360060</th>\n",
       "      <td>360060</td>\n",
       "      <td>upthin</td>\n",
       "      <td>37.74917</td>\n",
       "      <td>-122.41593</td>\n",
       "      <td>1211028791000</td>\n",
       "      <td>San_Francisco</td>\n",
       "    </tr>\n",
       "    <tr>\n",
       "      <th>360061</th>\n",
       "      <td>360061</td>\n",
       "      <td>upthin</td>\n",
       "      <td>37.74839</td>\n",
       "      <td>-122.41142</td>\n",
       "      <td>1211028731000</td>\n",
       "      <td>San_Francisco</td>\n",
       "    </tr>\n",
       "    <tr>\n",
       "      <th>360062</th>\n",
       "      <td>360062</td>\n",
       "      <td>upthin</td>\n",
       "      <td>37.74952</td>\n",
       "      <td>-122.40298</td>\n",
       "      <td>1211028676000</td>\n",
       "      <td>San_Francisco</td>\n",
       "    </tr>\n",
       "    <tr>\n",
       "      <th>360063</th>\n",
       "      <td>360063</td>\n",
       "      <td>upthin</td>\n",
       "      <td>37.75007</td>\n",
       "      <td>-122.39533</td>\n",
       "      <td>1211028614000</td>\n",
       "      <td>San_Francisco</td>\n",
       "    </tr>\n",
       "    <tr>\n",
       "      <th>360064</th>\n",
       "      <td>360064</td>\n",
       "      <td>upthin</td>\n",
       "      <td>37.75122</td>\n",
       "      <td>-122.39522</td>\n",
       "      <td>1211028573000</td>\n",
       "      <td>San_Francisco</td>\n",
       "    </tr>\n",
       "  </tbody>\n",
       "</table>\n",
       "<p>49367 rows × 6 columns</p>\n",
       "</div>"
      ],
      "text/plain": [
       "        position_id driver_id  latitude  longitude           time  \\\n",
       "310698       310698    upthin  37.78611 -122.45610  1213038835000   \n",
       "310699       310699    upthin  37.78611 -122.45610  1213038833000   \n",
       "310700       310700    upthin  37.77283 -122.41278  1213038830000   \n",
       "310701       310701    upthin  37.78674 -122.45509  1213038773000   \n",
       "310702       310702    upthin  37.77059 -122.41517  1213038749000   \n",
       "...             ...       ...       ...        ...            ...   \n",
       "360060       360060    upthin  37.74917 -122.41593  1211028791000   \n",
       "360061       360061    upthin  37.74839 -122.41142  1211028731000   \n",
       "360062       360062    upthin  37.74952 -122.40298  1211028676000   \n",
       "360063       360063    upthin  37.75007 -122.39533  1211028614000   \n",
       "360064       360064    upthin  37.75122 -122.39522  1211028573000   \n",
       "\n",
       "               source  \n",
       "310698  San_Francisco  \n",
       "310699  San_Francisco  \n",
       "310700  San_Francisco  \n",
       "310701  San_Francisco  \n",
       "310702  San_Francisco  \n",
       "...               ...  \n",
       "360060  San_Francisco  \n",
       "360061  San_Francisco  \n",
       "360062  San_Francisco  \n",
       "360063  San_Francisco  \n",
       "360064  San_Francisco  \n",
       "\n",
       "[49367 rows x 6 columns]"
      ]
     },
     "execution_count": 23,
     "metadata": {},
     "output_type": "execute_result"
    }
   ],
   "source": [
    "#Records where driver id = upthin\n",
    "sf_location.loc[sf_location['driver_id'] == 'upthin']"
   ]
  },
  {
   "cell_type": "code",
   "execution_count": 22,
   "metadata": {},
   "outputs": [
    {
     "data": {
      "text/plain": [
       "upthin      49367\n",
       "udwadla     33753\n",
       "equioc      29997\n",
       "enkkand     29742\n",
       "ejshigib    29536\n",
       "            ...  \n",
       "objoyhi      1495\n",
       "ifeshce      1003\n",
       "oilrag        932\n",
       "egoiwroi      185\n",
       "eotcue         59\n",
       "Name: driver_id, Length: 536, dtype: int64"
      ]
     },
     "execution_count": 22,
     "metadata": {},
     "output_type": "execute_result"
    }
   ],
   "source": [
    "sf_location['driver_id'].value_counts()"
   ]
  },
  {
   "cell_type": "code",
   "execution_count": 24,
   "metadata": {},
   "outputs": [
    {
     "data": {
      "text/plain": [
       "0.4399928520212425"
      ]
     },
     "execution_count": 24,
     "metadata": {},
     "output_type": "execute_result"
    }
   ],
   "source": [
    "percent_frequent = sf_location['driver_id'].value_counts().max() * 100 / len(sf_location)\n",
    "percent_frequent"
   ]
  },
  {
   "cell_type": "code",
   "execution_count": 29,
   "metadata": {},
   "outputs": [],
   "source": [
    "#maximum lenght of each column - to edit\n",
    "measurer = np.vectorize(len)\n",
    "res1 = measurer(sf_location.values.astype(str)).max(axis=0)"
   ]
  },
  {
   "cell_type": "code",
   "execution_count": 30,
   "metadata": {},
   "outputs": [
    {
     "data": {
      "text/plain": [
       "array([ 8,  8, 18, 19, 13, 13])"
      ]
     },
     "execution_count": 30,
     "metadata": {},
     "output_type": "execute_result"
    }
   ],
   "source": [
    "res1"
   ]
  },
  {
   "cell_type": "code",
   "execution_count": 58,
   "metadata": {},
   "outputs": [
    {
     "name": "stdout",
     "output_type": "stream",
     "text": [
      "2008-05-17 10:00:04\n",
      "2008-06-10 09:25:34\n"
     ]
    }
   ],
   "source": [
    "#earliest and latest record in the dataset\n",
    "print (sf_location.datetime.min())\n",
    "print (sf_location.datetime.max())"
   ]
  },
  {
   "cell_type": "code",
   "execution_count": 59,
   "metadata": {},
   "outputs": [
    {
     "data": {
      "text/html": [
       "<div>\n",
       "<style scoped>\n",
       "    .dataframe tbody tr th:only-of-type {\n",
       "        vertical-align: middle;\n",
       "    }\n",
       "\n",
       "    .dataframe tbody tr th {\n",
       "        vertical-align: top;\n",
       "    }\n",
       "\n",
       "    .dataframe thead th {\n",
       "        text-align: right;\n",
       "    }\n",
       "</style>\n",
       "<table border=\"1\" class=\"dataframe\">\n",
       "  <thead>\n",
       "    <tr style=\"text-align: right;\">\n",
       "      <th></th>\n",
       "      <th>position_id</th>\n",
       "      <th>driver_id</th>\n",
       "      <th>latitude</th>\n",
       "      <th>longitude</th>\n",
       "      <th>time</th>\n",
       "      <th>source</th>\n",
       "      <th>datetime</th>\n",
       "      <th>day</th>\n",
       "      <th>month</th>\n",
       "    </tr>\n",
       "  </thead>\n",
       "  <tbody>\n",
       "    <tr>\n",
       "      <th>0</th>\n",
       "      <td>0</td>\n",
       "      <td>adkavy</td>\n",
       "      <td>37.61549</td>\n",
       "      <td>-122.38821</td>\n",
       "      <td>1213037028000</td>\n",
       "      <td>San_Francisco</td>\n",
       "      <td>2008-06-09 18:43:48</td>\n",
       "      <td>9</td>\n",
       "      <td>6</td>\n",
       "    </tr>\n",
       "    <tr>\n",
       "      <th>1</th>\n",
       "      <td>1</td>\n",
       "      <td>adkavy</td>\n",
       "      <td>37.61562</td>\n",
       "      <td>-122.38849</td>\n",
       "      <td>1213036968000</td>\n",
       "      <td>San_Francisco</td>\n",
       "      <td>2008-06-09 18:42:48</td>\n",
       "      <td>9</td>\n",
       "      <td>6</td>\n",
       "    </tr>\n",
       "    <tr>\n",
       "      <th>2</th>\n",
       "      <td>2</td>\n",
       "      <td>adkavy</td>\n",
       "      <td>37.61518</td>\n",
       "      <td>-122.39029</td>\n",
       "      <td>1213036903000</td>\n",
       "      <td>San_Francisco</td>\n",
       "      <td>2008-06-09 18:41:43</td>\n",
       "      <td>9</td>\n",
       "      <td>6</td>\n",
       "    </tr>\n",
       "    <tr>\n",
       "      <th>3</th>\n",
       "      <td>3</td>\n",
       "      <td>adkavy</td>\n",
       "      <td>37.61393</td>\n",
       "      <td>-122.39508</td>\n",
       "      <td>1213036843000</td>\n",
       "      <td>San_Francisco</td>\n",
       "      <td>2008-06-09 18:40:43</td>\n",
       "      <td>9</td>\n",
       "      <td>6</td>\n",
       "    </tr>\n",
       "    <tr>\n",
       "      <th>4</th>\n",
       "      <td>4</td>\n",
       "      <td>adkavy</td>\n",
       "      <td>37.60493</td>\n",
       "      <td>-122.38362</td>\n",
       "      <td>1213036783000</td>\n",
       "      <td>San_Francisco</td>\n",
       "      <td>2008-06-09 18:39:43</td>\n",
       "      <td>9</td>\n",
       "      <td>6</td>\n",
       "    </tr>\n",
       "    <tr>\n",
       "      <th>...</th>\n",
       "      <td>...</td>\n",
       "      <td>...</td>\n",
       "      <td>...</td>\n",
       "      <td>...</td>\n",
       "      <td>...</td>\n",
       "      <td>...</td>\n",
       "      <td>...</td>\n",
       "      <td>...</td>\n",
       "      <td>...</td>\n",
       "    </tr>\n",
       "    <tr>\n",
       "      <th>11219950</th>\n",
       "      <td>11219950</td>\n",
       "      <td>aducrisi</td>\n",
       "      <td>37.76247</td>\n",
       "      <td>-122.39555</td>\n",
       "      <td>1211055456000</td>\n",
       "      <td>San_Francisco</td>\n",
       "      <td>2008-05-17 20:17:36</td>\n",
       "      <td>17</td>\n",
       "      <td>5</td>\n",
       "    </tr>\n",
       "    <tr>\n",
       "      <th>11219951</th>\n",
       "      <td>11219951</td>\n",
       "      <td>aducrisi</td>\n",
       "      <td>37.76116</td>\n",
       "      <td>-122.39350</td>\n",
       "      <td>1211055391000</td>\n",
       "      <td>San_Francisco</td>\n",
       "      <td>2008-05-17 20:16:31</td>\n",
       "      <td>17</td>\n",
       "      <td>5</td>\n",
       "    </tr>\n",
       "    <tr>\n",
       "      <th>11219952</th>\n",
       "      <td>11219952</td>\n",
       "      <td>aducrisi</td>\n",
       "      <td>37.76039</td>\n",
       "      <td>-122.39338</td>\n",
       "      <td>1211055343000</td>\n",
       "      <td>San_Francisco</td>\n",
       "      <td>2008-05-17 20:15:43</td>\n",
       "      <td>17</td>\n",
       "      <td>5</td>\n",
       "    </tr>\n",
       "    <tr>\n",
       "      <th>11219953</th>\n",
       "      <td>11219953</td>\n",
       "      <td>aducrisi</td>\n",
       "      <td>37.75488</td>\n",
       "      <td>-122.39287</td>\n",
       "      <td>1211055282000</td>\n",
       "      <td>San_Francisco</td>\n",
       "      <td>2008-05-17 20:14:42</td>\n",
       "      <td>17</td>\n",
       "      <td>5</td>\n",
       "    </tr>\n",
       "    <tr>\n",
       "      <th>11219954</th>\n",
       "      <td>11219954</td>\n",
       "      <td>aducrisi</td>\n",
       "      <td>37.74995</td>\n",
       "      <td>-122.39262</td>\n",
       "      <td>1211055222000</td>\n",
       "      <td>San_Francisco</td>\n",
       "      <td>2008-05-17 20:13:42</td>\n",
       "      <td>17</td>\n",
       "      <td>5</td>\n",
       "    </tr>\n",
       "  </tbody>\n",
       "</table>\n",
       "<p>11219955 rows × 9 columns</p>\n",
       "</div>"
      ],
      "text/plain": [
       "          position_id driver_id  latitude  longitude           time  \\\n",
       "0                   0    adkavy  37.61549 -122.38821  1213037028000   \n",
       "1                   1    adkavy  37.61562 -122.38849  1213036968000   \n",
       "2                   2    adkavy  37.61518 -122.39029  1213036903000   \n",
       "3                   3    adkavy  37.61393 -122.39508  1213036843000   \n",
       "4                   4    adkavy  37.60493 -122.38362  1213036783000   \n",
       "...               ...       ...       ...        ...            ...   \n",
       "11219950     11219950  aducrisi  37.76247 -122.39555  1211055456000   \n",
       "11219951     11219951  aducrisi  37.76116 -122.39350  1211055391000   \n",
       "11219952     11219952  aducrisi  37.76039 -122.39338  1211055343000   \n",
       "11219953     11219953  aducrisi  37.75488 -122.39287  1211055282000   \n",
       "11219954     11219954  aducrisi  37.74995 -122.39262  1211055222000   \n",
       "\n",
       "                 source            datetime  day  month  \n",
       "0         San_Francisco 2008-06-09 18:43:48    9      6  \n",
       "1         San_Francisco 2008-06-09 18:42:48    9      6  \n",
       "2         San_Francisco 2008-06-09 18:41:43    9      6  \n",
       "3         San_Francisco 2008-06-09 18:40:43    9      6  \n",
       "4         San_Francisco 2008-06-09 18:39:43    9      6  \n",
       "...                 ...                 ...  ...    ...  \n",
       "11219950  San_Francisco 2008-05-17 20:17:36   17      5  \n",
       "11219951  San_Francisco 2008-05-17 20:16:31   17      5  \n",
       "11219952  San_Francisco 2008-05-17 20:15:43   17      5  \n",
       "11219953  San_Francisco 2008-05-17 20:14:42   17      5  \n",
       "11219954  San_Francisco 2008-05-17 20:13:42   17      5  \n",
       "\n",
       "[11219955 rows x 9 columns]"
      ]
     },
     "execution_count": 59,
     "metadata": {},
     "output_type": "execute_result"
    }
   ],
   "source": [
    "sf_location['day'] = sf_location[\"datetime\"].dt.day\n",
    "sf_location['month'] = sf_location[\"datetime\"].dt.month\n",
    "sf_location"
   ]
  },
  {
   "cell_type": "code",
   "execution_count": 15,
   "metadata": {
    "scrolled": false
   },
   "outputs": [
    {
     "data": {
      "text/plain": [
       "<matplotlib.axes._subplots.AxesSubplot at 0x7fe0080c4d68>"
      ]
     },
     "execution_count": 15,
     "metadata": {},
     "output_type": "execute_result"
    },
    {
     "data": {
      "image/png": "[encoded data removed]",
      "text/plain": [
       "<Figure size 576x396 with 1 Axes>"
      ]
     },
     "metadata": {},
     "output_type": "display_data"
    }
   ],
   "source": [
    "sf_location_daymonth_group = sf_location['position_id'].groupby([sf_location[\"datetime\"].dt.day, sf_location[\"datetime\"].dt.month]).count()\n",
    "#sf_location_daymonth_group.sort_values(['datetime'], ascending=False)\n",
    "#print(sf_location_daymonth_group)\n",
    "\n",
    "sf_location_daymonth_group_df = sf_location_daymonth_group.to_frame()\n",
    "sf_location_daymonth_group.plot(kind=\"bar\")\n",
    "\n",
    "#sf_location_daymonth_group = sf_location.sort_values(['month'], ascending=[True]).groupby([sf_location[\"day\"], sf_location[\"month\"]]).count()\n",
    "\n",
    "#sf_location_daymonth_group.sort_values(['day', 'month'], ascending=[True, True])\n",
    "#sf_location_daymonth_group.month.sort_values()\n",
    "#sf_location_daymonth_group[]\n"
   ]
  },
  {
   "cell_type": "code",
   "execution_count": 89,
   "metadata": {},
   "outputs": [
    {
     "data": {
      "text/html": [
       "<div>\n",
       "<style scoped>\n",
       "    .dataframe tbody tr th:only-of-type {\n",
       "        vertical-align: middle;\n",
       "    }\n",
       "\n",
       "    .dataframe tbody tr th {\n",
       "        vertical-align: top;\n",
       "    }\n",
       "\n",
       "    .dataframe thead th {\n",
       "        text-align: right;\n",
       "    }\n",
       "</style>\n",
       "<table border=\"1\" class=\"dataframe\">\n",
       "  <thead>\n",
       "    <tr style=\"text-align: right;\">\n",
       "      <th></th>\n",
       "      <th>position_id</th>\n",
       "      <th>latitude</th>\n",
       "      <th>longitude</th>\n",
       "      <th>time</th>\n",
       "      <th>day</th>\n",
       "      <th>month</th>\n",
       "    </tr>\n",
       "  </thead>\n",
       "  <tbody>\n",
       "    <tr>\n",
       "      <th>count</th>\n",
       "      <td>11219955.000000</td>\n",
       "      <td>11219955.000000</td>\n",
       "      <td>11219955.000000</td>\n",
       "      <td>11219955.000000</td>\n",
       "      <td>11219955.000000</td>\n",
       "      <td>11219955.000000</td>\n",
       "    </tr>\n",
       "    <tr>\n",
       "      <th>mean</th>\n",
       "      <td>5609977.000000</td>\n",
       "      <td>37.763601</td>\n",
       "      <td>-122.412432</td>\n",
       "      <td>1212036387546.543701</td>\n",
       "      <td>16.854918</td>\n",
       "      <td>5.382194</td>\n",
       "    </tr>\n",
       "    <tr>\n",
       "      <th>std</th>\n",
       "      <td>3238922.164110</td>\n",
       "      <td>0.053860</td>\n",
       "      <td>0.035782</td>\n",
       "      <td>588563007.649678</td>\n",
       "      <td>10.039103</td>\n",
       "      <td>0.485924</td>\n",
       "    </tr>\n",
       "    <tr>\n",
       "      <th>min</th>\n",
       "      <td>0.000000</td>\n",
       "      <td>32.869700</td>\n",
       "      <td>-127.081430</td>\n",
       "      <td>1211018404000.000000</td>\n",
       "      <td>1.000000</td>\n",
       "      <td>5.000000</td>\n",
       "    </tr>\n",
       "    <tr>\n",
       "      <th>25%</th>\n",
       "      <td>2804988.500000</td>\n",
       "      <td>37.755130</td>\n",
       "      <td>-122.425250</td>\n",
       "      <td>1211522849000.000000</td>\n",
       "      <td>6.000000</td>\n",
       "      <td>5.000000</td>\n",
       "    </tr>\n",
       "    <tr>\n",
       "      <th>50%</th>\n",
       "      <td>5609977.000000</td>\n",
       "      <td>37.781070</td>\n",
       "      <td>-122.411060</td>\n",
       "      <td>1212043218000.000000</td>\n",
       "      <td>20.000000</td>\n",
       "      <td>5.000000</td>\n",
       "    </tr>\n",
       "    <tr>\n",
       "      <th>75%</th>\n",
       "      <td>8414965.500000</td>\n",
       "      <td>37.790450</td>\n",
       "      <td>-122.400270</td>\n",
       "      <td>1212548811000.000000</td>\n",
       "      <td>26.000000</td>\n",
       "      <td>6.000000</td>\n",
       "    </tr>\n",
       "    <tr>\n",
       "      <th>max</th>\n",
       "      <td>11219954.000000</td>\n",
       "      <td>50.305460</td>\n",
       "      <td>-115.562180</td>\n",
       "      <td>1213089934000.000000</td>\n",
       "      <td>31.000000</td>\n",
       "      <td>6.000000</td>\n",
       "    </tr>\n",
       "  </tbody>\n",
       "</table>\n",
       "</div>"
      ],
      "text/plain": [
       "           position_id         latitude        longitude  \\\n",
       "count  11219955.000000  11219955.000000  11219955.000000   \n",
       "mean    5609977.000000        37.763601      -122.412432   \n",
       "std     3238922.164110         0.053860         0.035782   \n",
       "min           0.000000        32.869700      -127.081430   \n",
       "25%     2804988.500000        37.755130      -122.425250   \n",
       "50%     5609977.000000        37.781070      -122.411060   \n",
       "75%     8414965.500000        37.790450      -122.400270   \n",
       "max    11219954.000000        50.305460      -115.562180   \n",
       "\n",
       "                       time              day            month  \n",
       "count       11219955.000000  11219955.000000  11219955.000000  \n",
       "mean   1212036387546.543701        16.854918         5.382194  \n",
       "std        588563007.649678        10.039103         0.485924  \n",
       "min    1211018404000.000000         1.000000         5.000000  \n",
       "25%    1211522849000.000000         6.000000         5.000000  \n",
       "50%    1212043218000.000000        20.000000         5.000000  \n",
       "75%    1212548811000.000000        26.000000         6.000000  \n",
       "max    1213089934000.000000        31.000000         6.000000  "
      ]
     },
     "execution_count": 89,
     "metadata": {},
     "output_type": "execute_result"
    }
   ],
   "source": [
    "sf_location.describe().apply(lambda s: s.apply(lambda x: format(x, 'f')))"
   ]
  },
  {
   "cell_type": "code",
   "execution_count": 86,
   "metadata": {},
   "outputs": [
    {
     "data": {
      "text/html": [
       "<div>\n",
       "<style scoped>\n",
       "    .dataframe tbody tr th:only-of-type {\n",
       "        vertical-align: middle;\n",
       "    }\n",
       "\n",
       "    .dataframe tbody tr th {\n",
       "        vertical-align: top;\n",
       "    }\n",
       "\n",
       "    .dataframe thead th {\n",
       "        text-align: right;\n",
       "    }\n",
       "</style>\n",
       "<table border=\"1\" class=\"dataframe\">\n",
       "  <thead>\n",
       "    <tr style=\"text-align: right;\">\n",
       "      <th></th>\n",
       "      <th>position_id</th>\n",
       "      <th>driver_id</th>\n",
       "      <th>latitude</th>\n",
       "      <th>longitude</th>\n",
       "      <th>time</th>\n",
       "      <th>source</th>\n",
       "      <th>datetime</th>\n",
       "      <th>day</th>\n",
       "      <th>month</th>\n",
       "    </tr>\n",
       "  </thead>\n",
       "  <tbody>\n",
       "    <tr>\n",
       "      <th>0</th>\n",
       "      <td>0</td>\n",
       "      <td>adkavy</td>\n",
       "      <td>37.61549</td>\n",
       "      <td>-122.38821</td>\n",
       "      <td>1213037028000</td>\n",
       "      <td>San_Francisco</td>\n",
       "      <td>2008-06-09 18:43:48</td>\n",
       "      <td>9</td>\n",
       "      <td>6</td>\n",
       "    </tr>\n",
       "    <tr>\n",
       "      <th>1</th>\n",
       "      <td>1</td>\n",
       "      <td>adkavy</td>\n",
       "      <td>37.61562</td>\n",
       "      <td>-122.38849</td>\n",
       "      <td>1213036968000</td>\n",
       "      <td>San_Francisco</td>\n",
       "      <td>2008-06-09 18:42:48</td>\n",
       "      <td>9</td>\n",
       "      <td>6</td>\n",
       "    </tr>\n",
       "    <tr>\n",
       "      <th>2</th>\n",
       "      <td>2</td>\n",
       "      <td>adkavy</td>\n",
       "      <td>37.61518</td>\n",
       "      <td>-122.39029</td>\n",
       "      <td>1213036903000</td>\n",
       "      <td>San_Francisco</td>\n",
       "      <td>2008-06-09 18:41:43</td>\n",
       "      <td>9</td>\n",
       "      <td>6</td>\n",
       "    </tr>\n",
       "    <tr>\n",
       "      <th>3</th>\n",
       "      <td>3</td>\n",
       "      <td>adkavy</td>\n",
       "      <td>37.61393</td>\n",
       "      <td>-122.39508</td>\n",
       "      <td>1213036843000</td>\n",
       "      <td>San_Francisco</td>\n",
       "      <td>2008-06-09 18:40:43</td>\n",
       "      <td>9</td>\n",
       "      <td>6</td>\n",
       "    </tr>\n",
       "    <tr>\n",
       "      <th>4</th>\n",
       "      <td>4</td>\n",
       "      <td>adkavy</td>\n",
       "      <td>37.60493</td>\n",
       "      <td>-122.38362</td>\n",
       "      <td>1213036783000</td>\n",
       "      <td>San_Francisco</td>\n",
       "      <td>2008-06-09 18:39:43</td>\n",
       "      <td>9</td>\n",
       "      <td>6</td>\n",
       "    </tr>\n",
       "  </tbody>\n",
       "</table>\n",
       "</div>"
      ],
      "text/plain": [
       "   position_id driver_id  latitude  longitude           time         source  \\\n",
       "0            0    adkavy  37.61549 -122.38821  1213037028000  San_Francisco   \n",
       "1            1    adkavy  37.61562 -122.38849  1213036968000  San_Francisco   \n",
       "2            2    adkavy  37.61518 -122.39029  1213036903000  San_Francisco   \n",
       "3            3    adkavy  37.61393 -122.39508  1213036843000  San_Francisco   \n",
       "4            4    adkavy  37.60493 -122.38362  1213036783000  San_Francisco   \n",
       "\n",
       "             datetime  day  month  \n",
       "0 2008-06-09 18:43:48    9      6  \n",
       "1 2008-06-09 18:42:48    9      6  \n",
       "2 2008-06-09 18:41:43    9      6  \n",
       "3 2008-06-09 18:40:43    9      6  \n",
       "4 2008-06-09 18:39:43    9      6  "
      ]
     },
     "execution_count": 86,
     "metadata": {},
     "output_type": "execute_result"
    }
   ],
   "source": [
    "sf_location.head()\n"
   ]
  },
  {
   "cell_type": "code",
   "execution_count": 33,
   "metadata": {},
   "outputs": [
    {
     "data": {
      "image/png": "[encoded data removed]",
      "text/plain": [
       "<Figure size 1008x576 with 1 Axes>"
      ]
     },
     "metadata": {},
     "output_type": "display_data"
    }
   ],
   "source": [
    "import matplotlib.pyplot as plt\n",
    "ax = sf_location['driver_id'].value_counts().plot(kind='bar',\n",
    "                                    figsize=(14,8),\n",
    "                                    title=\"Number for driver ID\")\n",
    "#ax.set_xlabel(\"Owner Names\")\n",
    "#ax.set_ylabel(\"Frequency\")\n",
    "plt.show()"
   ]
  },
  {
   "cell_type": "code",
   "execution_count": null,
   "metadata": {},
   "outputs": [],
   "source": []
  },
  {
   "cell_type": "code",
   "execution_count": 90,
   "metadata": {},
   "outputs": [
    {
     "name": "stdout",
     "output_type": "stream",
     "text": [
      "2020-03-10 14:10:55,915 - kedro.io.data_catalog - INFO - Loading data from `rome_location` (CSVDataSet)...\n"
     ]
    },
    {
     "data": {
      "text/html": [
       "<div>\n",
       "<style scoped>\n",
       "    .dataframe tbody tr th:only-of-type {\n",
       "        vertical-align: middle;\n",
       "    }\n",
       "\n",
       "    .dataframe tbody tr th {\n",
       "        vertical-align: top;\n",
       "    }\n",
       "\n",
       "    .dataframe thead th {\n",
       "        text-align: right;\n",
       "    }\n",
       "</style>\n",
       "<table border=\"1\" class=\"dataframe\">\n",
       "  <thead>\n",
       "    <tr style=\"text-align: right;\">\n",
       "      <th></th>\n",
       "      <th>position_id</th>\n",
       "      <th>driver_id</th>\n",
       "      <th>latitude</th>\n",
       "      <th>longitude</th>\n",
       "      <th>time</th>\n",
       "      <th>source</th>\n",
       "    </tr>\n",
       "  </thead>\n",
       "  <tbody>\n",
       "    <tr>\n",
       "      <th>0</th>\n",
       "      <td>30000000</td>\n",
       "      <td>156</td>\n",
       "      <td>41.883672</td>\n",
       "      <td>12.487778</td>\n",
       "      <td>1.265065e+12</td>\n",
       "      <td>Rome</td>\n",
       "    </tr>\n",
       "    <tr>\n",
       "      <th>1</th>\n",
       "      <td>30000001</td>\n",
       "      <td>187</td>\n",
       "      <td>41.928543</td>\n",
       "      <td>12.469037</td>\n",
       "      <td>1.265065e+12</td>\n",
       "      <td>Rome</td>\n",
       "    </tr>\n",
       "    <tr>\n",
       "      <th>2</th>\n",
       "      <td>30000002</td>\n",
       "      <td>297</td>\n",
       "      <td>41.891069</td>\n",
       "      <td>12.492705</td>\n",
       "      <td>1.265065e+12</td>\n",
       "      <td>Rome</td>\n",
       "    </tr>\n",
       "    <tr>\n",
       "      <th>3</th>\n",
       "      <td>30000003</td>\n",
       "      <td>89</td>\n",
       "      <td>41.793177</td>\n",
       "      <td>12.432122</td>\n",
       "      <td>1.265065e+12</td>\n",
       "      <td>Rome</td>\n",
       "    </tr>\n",
       "    <tr>\n",
       "      <th>4</th>\n",
       "      <td>30000004</td>\n",
       "      <td>79</td>\n",
       "      <td>41.900275</td>\n",
       "      <td>12.462746</td>\n",
       "      <td>1.265065e+12</td>\n",
       "      <td>Rome</td>\n",
       "    </tr>\n",
       "  </tbody>\n",
       "</table>\n",
       "</div>"
      ],
      "text/plain": [
       "   position_id  driver_id   latitude  longitude          time source\n",
       "0     30000000        156  41.883672  12.487778  1.265065e+12   Rome\n",
       "1     30000001        187  41.928543  12.469037  1.265065e+12   Rome\n",
       "2     30000002        297  41.891069  12.492705  1.265065e+12   Rome\n",
       "3     30000003         89  41.793177  12.432122  1.265065e+12   Rome\n",
       "4     30000004         79  41.900275  12.462746  1.265065e+12   Rome"
      ]
     },
     "execution_count": 90,
     "metadata": {},
     "output_type": "execute_result"
    }
   ],
   "source": [
    "#joining data\n",
    "rome_location = catalog.load(\"rome_location\")\n",
    "rome_location.head()"
   ]
  },
  {
   "cell_type": "code",
   "execution_count": 93,
   "metadata": {},
   "outputs": [
    {
     "name": "stdout",
     "output_type": "stream",
     "text": [
      "2020-03-10 14:11:59,396 - kedro.io.data_catalog - INFO - Loading data from `sf_location` (CSVDataSet)...\n"
     ]
    },
    {
     "data": {
      "text/html": [
       "<div>\n",
       "<style scoped>\n",
       "    .dataframe tbody tr th:only-of-type {\n",
       "        vertical-align: middle;\n",
       "    }\n",
       "\n",
       "    .dataframe tbody tr th {\n",
       "        vertical-align: top;\n",
       "    }\n",
       "\n",
       "    .dataframe thead th {\n",
       "        text-align: right;\n",
       "    }\n",
       "</style>\n",
       "<table border=\"1\" class=\"dataframe\">\n",
       "  <thead>\n",
       "    <tr style=\"text-align: right;\">\n",
       "      <th></th>\n",
       "      <th>position_id</th>\n",
       "      <th>driver_id</th>\n",
       "      <th>latitude</th>\n",
       "      <th>longitude</th>\n",
       "      <th>time</th>\n",
       "      <th>source</th>\n",
       "    </tr>\n",
       "  </thead>\n",
       "  <tbody>\n",
       "    <tr>\n",
       "      <th>0</th>\n",
       "      <td>0</td>\n",
       "      <td>adkavy</td>\n",
       "      <td>37.61549</td>\n",
       "      <td>-122.38821</td>\n",
       "      <td>1213037028000</td>\n",
       "      <td>San_Francisco</td>\n",
       "    </tr>\n",
       "    <tr>\n",
       "      <th>1</th>\n",
       "      <td>1</td>\n",
       "      <td>adkavy</td>\n",
       "      <td>37.61562</td>\n",
       "      <td>-122.38849</td>\n",
       "      <td>1213036968000</td>\n",
       "      <td>San_Francisco</td>\n",
       "    </tr>\n",
       "    <tr>\n",
       "      <th>2</th>\n",
       "      <td>2</td>\n",
       "      <td>adkavy</td>\n",
       "      <td>37.61518</td>\n",
       "      <td>-122.39029</td>\n",
       "      <td>1213036903000</td>\n",
       "      <td>San_Francisco</td>\n",
       "    </tr>\n",
       "    <tr>\n",
       "      <th>3</th>\n",
       "      <td>3</td>\n",
       "      <td>adkavy</td>\n",
       "      <td>37.61393</td>\n",
       "      <td>-122.39508</td>\n",
       "      <td>1213036843000</td>\n",
       "      <td>San_Francisco</td>\n",
       "    </tr>\n",
       "    <tr>\n",
       "      <th>4</th>\n",
       "      <td>4</td>\n",
       "      <td>adkavy</td>\n",
       "      <td>37.60493</td>\n",
       "      <td>-122.38362</td>\n",
       "      <td>1213036783000</td>\n",
       "      <td>San_Francisco</td>\n",
       "    </tr>\n",
       "  </tbody>\n",
       "</table>\n",
       "</div>"
      ],
      "text/plain": [
       "   position_id driver_id  latitude  longitude           time         source\n",
       "0            0    adkavy  37.61549 -122.38821  1213037028000  San_Francisco\n",
       "1            1    adkavy  37.61562 -122.38849  1213036968000  San_Francisco\n",
       "2            2    adkavy  37.61518 -122.39029  1213036903000  San_Francisco\n",
       "3            3    adkavy  37.61393 -122.39508  1213036843000  San_Francisco\n",
       "4            4    adkavy  37.60493 -122.38362  1213036783000  San_Francisco"
      ]
     },
     "execution_count": 93,
     "metadata": {},
     "output_type": "execute_result"
    }
   ],
   "source": [
    "sf_location = catalog.load(\"sf_location\")\n",
    "sf_location.head()"
   ]
  },
  {
   "cell_type": "code",
   "execution_count": 97,
   "metadata": {},
   "outputs": [
    {
     "data": {
      "text/plain": [
       "1"
      ]
     },
     "execution_count": 97,
     "metadata": {},
     "output_type": "execute_result"
    }
   ],
   "source": [
    "sf_location.source.nunique()"
   ]
  },
  {
   "cell_type": "code",
   "execution_count": 104,
   "metadata": {},
   "outputs": [
    {
     "data": {
      "text/html": [
       "<div>\n",
       "<style scoped>\n",
       "    .dataframe tbody tr th:only-of-type {\n",
       "        vertical-align: middle;\n",
       "    }\n",
       "\n",
       "    .dataframe tbody tr th {\n",
       "        vertical-align: top;\n",
       "    }\n",
       "\n",
       "    .dataframe thead th {\n",
       "        text-align: right;\n",
       "    }\n",
       "</style>\n",
       "<table border=\"1\" class=\"dataframe\">\n",
       "  <thead>\n",
       "    <tr style=\"text-align: right;\">\n",
       "      <th></th>\n",
       "      <th>position_id</th>\n",
       "      <th>driver_id</th>\n",
       "      <th>latitude</th>\n",
       "      <th>longitude</th>\n",
       "      <th>time</th>\n",
       "      <th>source</th>\n",
       "    </tr>\n",
       "  </thead>\n",
       "  <tbody>\n",
       "    <tr>\n",
       "      <th>0</th>\n",
       "      <td>0</td>\n",
       "      <td>adkavy</td>\n",
       "      <td>37.61549</td>\n",
       "      <td>-122.38821</td>\n",
       "      <td>1.213037e+12</td>\n",
       "      <td>San_Francisco</td>\n",
       "    </tr>\n",
       "    <tr>\n",
       "      <th>1</th>\n",
       "      <td>1</td>\n",
       "      <td>adkavy</td>\n",
       "      <td>37.61562</td>\n",
       "      <td>-122.38849</td>\n",
       "      <td>1.213037e+12</td>\n",
       "      <td>San_Francisco</td>\n",
       "    </tr>\n",
       "    <tr>\n",
       "      <th>2</th>\n",
       "      <td>2</td>\n",
       "      <td>adkavy</td>\n",
       "      <td>37.61518</td>\n",
       "      <td>-122.39029</td>\n",
       "      <td>1.213037e+12</td>\n",
       "      <td>San_Francisco</td>\n",
       "    </tr>\n",
       "    <tr>\n",
       "      <th>3</th>\n",
       "      <td>3</td>\n",
       "      <td>adkavy</td>\n",
       "      <td>37.61393</td>\n",
       "      <td>-122.39508</td>\n",
       "      <td>1.213037e+12</td>\n",
       "      <td>San_Francisco</td>\n",
       "    </tr>\n",
       "    <tr>\n",
       "      <th>4</th>\n",
       "      <td>4</td>\n",
       "      <td>adkavy</td>\n",
       "      <td>37.60493</td>\n",
       "      <td>-122.38362</td>\n",
       "      <td>1.213037e+12</td>\n",
       "      <td>San_Francisco</td>\n",
       "    </tr>\n",
       "  </tbody>\n",
       "</table>\n",
       "</div>"
      ],
      "text/plain": [
       "   position_id driver_id  latitude  longitude          time         source\n",
       "0            0    adkavy  37.61549 -122.38821  1.213037e+12  San_Francisco\n",
       "1            1    adkavy  37.61562 -122.38849  1.213037e+12  San_Francisco\n",
       "2            2    adkavy  37.61518 -122.39029  1.213037e+12  San_Francisco\n",
       "3            3    adkavy  37.61393 -122.39508  1.213037e+12  San_Francisco\n",
       "4            4    adkavy  37.60493 -122.38362  1.213037e+12  San_Francisco"
      ]
     },
     "execution_count": 104,
     "metadata": {},
     "output_type": "execute_result"
    }
   ],
   "source": [
    "location_df = sf_location.append(rome_location)\n",
    "location_df.head()"
   ]
  },
  {
   "cell_type": "code",
   "execution_count": 100,
   "metadata": {},
   "outputs": [
    {
     "name": "stdout",
     "output_type": "stream",
     "text": [
      "2020-03-10 14:14:53,972 - kedro.io.data_catalog - INFO - Loading data from `sf_crash` (CSVDataSet)...\n"
     ]
    },
    {
     "data": {
      "text/html": [
       "<div>\n",
       "<style scoped>\n",
       "    .dataframe tbody tr th:only-of-type {\n",
       "        vertical-align: middle;\n",
       "    }\n",
       "\n",
       "    .dataframe tbody tr th {\n",
       "        vertical-align: top;\n",
       "    }\n",
       "\n",
       "    .dataframe thead th {\n",
       "        text-align: right;\n",
       "    }\n",
       "</style>\n",
       "<table border=\"1\" class=\"dataframe\">\n",
       "  <thead>\n",
       "    <tr style=\"text-align: right;\">\n",
       "      <th></th>\n",
       "      <th>driver_id</th>\n",
       "      <th>time</th>\n",
       "      <th>crash</th>\n",
       "      <th>source</th>\n",
       "    </tr>\n",
       "  </thead>\n",
       "  <tbody>\n",
       "    <tr>\n",
       "      <th>0</th>\n",
       "      <td>adkavy</td>\n",
       "      <td>1213037028000</td>\n",
       "      <td>0</td>\n",
       "      <td>San_Francisco</td>\n",
       "    </tr>\n",
       "    <tr>\n",
       "      <th>1</th>\n",
       "      <td>adkavy</td>\n",
       "      <td>1213036968000</td>\n",
       "      <td>0</td>\n",
       "      <td>San_Francisco</td>\n",
       "    </tr>\n",
       "    <tr>\n",
       "      <th>2</th>\n",
       "      <td>adkavy</td>\n",
       "      <td>1213036903000</td>\n",
       "      <td>0</td>\n",
       "      <td>San_Francisco</td>\n",
       "    </tr>\n",
       "    <tr>\n",
       "      <th>3</th>\n",
       "      <td>adkavy</td>\n",
       "      <td>1213036843000</td>\n",
       "      <td>0</td>\n",
       "      <td>San_Francisco</td>\n",
       "    </tr>\n",
       "    <tr>\n",
       "      <th>4</th>\n",
       "      <td>adkavy</td>\n",
       "      <td>1213036783000</td>\n",
       "      <td>0</td>\n",
       "      <td>San_Francisco</td>\n",
       "    </tr>\n",
       "  </tbody>\n",
       "</table>\n",
       "</div>"
      ],
      "text/plain": [
       "  driver_id           time  crash         source\n",
       "0    adkavy  1213037028000      0  San_Francisco\n",
       "1    adkavy  1213036968000      0  San_Francisco\n",
       "2    adkavy  1213036903000      0  San_Francisco\n",
       "3    adkavy  1213036843000      0  San_Francisco\n",
       "4    adkavy  1213036783000      0  San_Francisco"
      ]
     },
     "execution_count": 100,
     "metadata": {},
     "output_type": "execute_result"
    }
   ],
   "source": [
    "sf_crash = catalog.load(\"sf_crash\")\n",
    "sf_crash.head()"
   ]
  },
  {
   "cell_type": "code",
   "execution_count": 101,
   "metadata": {},
   "outputs": [
    {
     "name": "stdout",
     "output_type": "stream",
     "text": [
      "2020-03-10 14:15:12,086 - kedro.io.data_catalog - INFO - Loading data from `rome_crash` (CSVDataSet)...\n"
     ]
    },
    {
     "data": {
      "text/html": [
       "<div>\n",
       "<style scoped>\n",
       "    .dataframe tbody tr th:only-of-type {\n",
       "        vertical-align: middle;\n",
       "    }\n",
       "\n",
       "    .dataframe tbody tr th {\n",
       "        vertical-align: top;\n",
       "    }\n",
       "\n",
       "    .dataframe thead th {\n",
       "        text-align: right;\n",
       "    }\n",
       "</style>\n",
       "<table border=\"1\" class=\"dataframe\">\n",
       "  <thead>\n",
       "    <tr style=\"text-align: right;\">\n",
       "      <th></th>\n",
       "      <th>driver_id</th>\n",
       "      <th>time</th>\n",
       "      <th>crash</th>\n",
       "      <th>source</th>\n",
       "    </tr>\n",
       "  </thead>\n",
       "  <tbody>\n",
       "    <tr>\n",
       "      <th>0</th>\n",
       "      <td>156</td>\n",
       "      <td>1.265065e+12</td>\n",
       "      <td>0</td>\n",
       "      <td>Rome</td>\n",
       "    </tr>\n",
       "    <tr>\n",
       "      <th>1</th>\n",
       "      <td>187</td>\n",
       "      <td>1.265065e+12</td>\n",
       "      <td>0</td>\n",
       "      <td>Rome</td>\n",
       "    </tr>\n",
       "    <tr>\n",
       "      <th>2</th>\n",
       "      <td>297</td>\n",
       "      <td>1.265065e+12</td>\n",
       "      <td>0</td>\n",
       "      <td>Rome</td>\n",
       "    </tr>\n",
       "    <tr>\n",
       "      <th>3</th>\n",
       "      <td>89</td>\n",
       "      <td>1.265065e+12</td>\n",
       "      <td>0</td>\n",
       "      <td>Rome</td>\n",
       "    </tr>\n",
       "    <tr>\n",
       "      <th>4</th>\n",
       "      <td>79</td>\n",
       "      <td>1.265065e+12</td>\n",
       "      <td>0</td>\n",
       "      <td>Rome</td>\n",
       "    </tr>\n",
       "  </tbody>\n",
       "</table>\n",
       "</div>"
      ],
      "text/plain": [
       "   driver_id          time  crash source\n",
       "0        156  1.265065e+12      0   Rome\n",
       "1        187  1.265065e+12      0   Rome\n",
       "2        297  1.265065e+12      0   Rome\n",
       "3         89  1.265065e+12      0   Rome\n",
       "4         79  1.265065e+12      0   Rome"
      ]
     },
     "execution_count": 101,
     "metadata": {},
     "output_type": "execute_result"
    }
   ],
   "source": [
    "rome_crash = catalog.load(\"rome_crash\")\n",
    "rome_crash.head()"
   ]
  },
  {
   "cell_type": "code",
   "execution_count": 103,
   "metadata": {},
   "outputs": [
    {
     "data": {
      "text/html": [
       "<div>\n",
       "<style scoped>\n",
       "    .dataframe tbody tr th:only-of-type {\n",
       "        vertical-align: middle;\n",
       "    }\n",
       "\n",
       "    .dataframe tbody tr th {\n",
       "        vertical-align: top;\n",
       "    }\n",
       "\n",
       "    .dataframe thead th {\n",
       "        text-align: right;\n",
       "    }\n",
       "</style>\n",
       "<table border=\"1\" class=\"dataframe\">\n",
       "  <thead>\n",
       "    <tr style=\"text-align: right;\">\n",
       "      <th></th>\n",
       "      <th>driver_id</th>\n",
       "      <th>time</th>\n",
       "      <th>crash</th>\n",
       "      <th>source</th>\n",
       "    </tr>\n",
       "  </thead>\n",
       "  <tbody>\n",
       "    <tr>\n",
       "      <th>0</th>\n",
       "      <td>adkavy</td>\n",
       "      <td>1.213037e+12</td>\n",
       "      <td>0</td>\n",
       "      <td>San_Francisco</td>\n",
       "    </tr>\n",
       "    <tr>\n",
       "      <th>1</th>\n",
       "      <td>adkavy</td>\n",
       "      <td>1.213037e+12</td>\n",
       "      <td>0</td>\n",
       "      <td>San_Francisco</td>\n",
       "    </tr>\n",
       "    <tr>\n",
       "      <th>2</th>\n",
       "      <td>adkavy</td>\n",
       "      <td>1.213037e+12</td>\n",
       "      <td>0</td>\n",
       "      <td>San_Francisco</td>\n",
       "    </tr>\n",
       "    <tr>\n",
       "      <th>3</th>\n",
       "      <td>adkavy</td>\n",
       "      <td>1.213037e+12</td>\n",
       "      <td>0</td>\n",
       "      <td>San_Francisco</td>\n",
       "    </tr>\n",
       "    <tr>\n",
       "      <th>4</th>\n",
       "      <td>adkavy</td>\n",
       "      <td>1.213037e+12</td>\n",
       "      <td>0</td>\n",
       "      <td>San_Francisco</td>\n",
       "    </tr>\n",
       "  </tbody>\n",
       "</table>\n",
       "</div>"
      ],
      "text/plain": [
       "  driver_id          time  crash         source\n",
       "0    adkavy  1.213037e+12      0  San_Francisco\n",
       "1    adkavy  1.213037e+12      0  San_Francisco\n",
       "2    adkavy  1.213037e+12      0  San_Francisco\n",
       "3    adkavy  1.213037e+12      0  San_Francisco\n",
       "4    adkavy  1.213037e+12      0  San_Francisco"
      ]
     },
     "execution_count": 103,
     "metadata": {},
     "output_type": "execute_result"
    }
   ],
   "source": [
    "crash_df = sf_crash.append(rome_crash)\n",
    "crash_df.head()"
   ]
  },
  {
   "cell_type": "code",
   "execution_count": 108,
   "metadata": {},
   "outputs": [
    {
     "name": "stdout",
     "output_type": "stream",
     "text": [
      "      driver_id          time  crash         source\n",
      "0        adkavy  1.213037e+12      0  San_Francisco\n",
      "1        adkavy  1.213037e+12      0  San_Francisco\n",
      "2        adkavy  1.213037e+12      0  San_Francisco\n",
      "3        adkavy  1.213037e+12      0  San_Francisco\n",
      "4        adkavy  1.213037e+12      0  San_Francisco\n",
      "...         ...           ...    ...            ...\n",
      "19537    adkavy  1.211035e+12      0  San_Francisco\n",
      "19538    adkavy  1.211035e+12      0  San_Francisco\n",
      "19539    adkavy  1.211034e+12      0  San_Francisco\n",
      "19540    adkavy  1.211034e+12      0  San_Francisco\n",
      "19541    adkavy  1.211034e+12      0  San_Francisco\n",
      "\n",
      "[19542 rows x 4 columns]\n"
     ]
    }
   ],
   "source": [
    "temp = crash_df.loc[crash_df['driver_id'] == 'adkavy']\n",
    "print(temp)"
   ]
  },
  {
   "cell_type": "code",
   "execution_count": 109,
   "metadata": {},
   "outputs": [
    {
     "data": {
      "text/html": [
       "<div>\n",
       "<style scoped>\n",
       "    .dataframe tbody tr th:only-of-type {\n",
       "        vertical-align: middle;\n",
       "    }\n",
       "\n",
       "    .dataframe tbody tr th {\n",
       "        vertical-align: top;\n",
       "    }\n",
       "\n",
       "    .dataframe thead th {\n",
       "        text-align: right;\n",
       "    }\n",
       "</style>\n",
       "<table border=\"1\" class=\"dataframe\">\n",
       "  <thead>\n",
       "    <tr style=\"text-align: right;\">\n",
       "      <th></th>\n",
       "      <th>position_id</th>\n",
       "      <th>driver_id</th>\n",
       "      <th>latitude</th>\n",
       "      <th>longitude</th>\n",
       "      <th>time</th>\n",
       "      <th>source_x</th>\n",
       "      <th>crash</th>\n",
       "      <th>source_y</th>\n",
       "    </tr>\n",
       "  </thead>\n",
       "  <tbody>\n",
       "    <tr>\n",
       "      <th>0</th>\n",
       "      <td>0</td>\n",
       "      <td>adkavy</td>\n",
       "      <td>37.61549</td>\n",
       "      <td>-122.38821</td>\n",
       "      <td>1.213037e+12</td>\n",
       "      <td>San_Francisco</td>\n",
       "      <td>0</td>\n",
       "      <td>San_Francisco</td>\n",
       "    </tr>\n",
       "    <tr>\n",
       "      <th>1</th>\n",
       "      <td>1</td>\n",
       "      <td>adkavy</td>\n",
       "      <td>37.61562</td>\n",
       "      <td>-122.38849</td>\n",
       "      <td>1.213037e+12</td>\n",
       "      <td>San_Francisco</td>\n",
       "      <td>0</td>\n",
       "      <td>San_Francisco</td>\n",
       "    </tr>\n",
       "    <tr>\n",
       "      <th>2</th>\n",
       "      <td>2</td>\n",
       "      <td>adkavy</td>\n",
       "      <td>37.61518</td>\n",
       "      <td>-122.39029</td>\n",
       "      <td>1.213037e+12</td>\n",
       "      <td>San_Francisco</td>\n",
       "      <td>0</td>\n",
       "      <td>San_Francisco</td>\n",
       "    </tr>\n",
       "    <tr>\n",
       "      <th>3</th>\n",
       "      <td>3</td>\n",
       "      <td>adkavy</td>\n",
       "      <td>37.61393</td>\n",
       "      <td>-122.39508</td>\n",
       "      <td>1.213037e+12</td>\n",
       "      <td>San_Francisco</td>\n",
       "      <td>0</td>\n",
       "      <td>San_Francisco</td>\n",
       "    </tr>\n",
       "    <tr>\n",
       "      <th>4</th>\n",
       "      <td>4</td>\n",
       "      <td>adkavy</td>\n",
       "      <td>37.60493</td>\n",
       "      <td>-122.38362</td>\n",
       "      <td>1.213037e+12</td>\n",
       "      <td>San_Francisco</td>\n",
       "      <td>0</td>\n",
       "      <td>San_Francisco</td>\n",
       "    </tr>\n",
       "  </tbody>\n",
       "</table>\n",
       "</div>"
      ],
      "text/plain": [
       "   position_id driver_id  latitude  longitude          time       source_x  \\\n",
       "0            0    adkavy  37.61549 -122.38821  1.213037e+12  San_Francisco   \n",
       "1            1    adkavy  37.61562 -122.38849  1.213037e+12  San_Francisco   \n",
       "2            2    adkavy  37.61518 -122.39029  1.213037e+12  San_Francisco   \n",
       "3            3    adkavy  37.61393 -122.39508  1.213037e+12  San_Francisco   \n",
       "4            4    adkavy  37.60493 -122.38362  1.213037e+12  San_Francisco   \n",
       "\n",
       "   crash       source_y  \n",
       "0      0  San_Francisco  \n",
       "1      0  San_Francisco  \n",
       "2      0  San_Francisco  \n",
       "3      0  San_Francisco  \n",
       "4      0  San_Francisco  "
      ]
     },
     "execution_count": 109,
     "metadata": {},
     "output_type": "execute_result"
    }
   ],
   "source": [
    "merged_dataframe = location_df.merge(crash_df, how='left', left_on=['driver_id', 'time'], right_on=['driver_id', 'time'])\n",
    "merged_dataframe.head()"
   ]
  },
  {
   "cell_type": "code",
   "execution_count": 110,
   "metadata": {},
   "outputs": [
    {
     "name": "stdout",
     "output_type": "stream",
     "text": [
      "          position_id driver_id   latitude   longitude          time  \\\n",
      "0                   0    adkavy  37.615490 -122.388210  1.213037e+12   \n",
      "1                   1    adkavy  37.615620 -122.388490  1.213037e+12   \n",
      "2                   2    adkavy  37.615180 -122.390290  1.213037e+12   \n",
      "3                   3    adkavy  37.613930 -122.395080  1.213037e+12   \n",
      "4                   4    adkavy  37.604930 -122.383620  1.213037e+12   \n",
      "...               ...       ...        ...         ...           ...   \n",
      "33037801     51817846       220  41.901199   12.484496  1.267657e+12   \n",
      "33037802     51817847       324  41.897262   12.472831  1.267657e+12   \n",
      "33037803     51817848       266  41.909772   12.529965  1.267657e+12   \n",
      "33037804     51817849       360  41.912769   12.417502  1.267657e+12   \n",
      "33037805     51817850       113  41.880361   12.508293  1.267657e+12   \n",
      "\n",
      "               source_x  crash       source_y                      datetime  \n",
      "0         San_Francisco      0  San_Francisco 2008-06-09 18:43:48.000000000  \n",
      "1         San_Francisco      0  San_Francisco 2008-06-09 18:42:48.000000000  \n",
      "2         San_Francisco      0  San_Francisco 2008-06-09 18:41:43.000000000  \n",
      "3         San_Francisco      0  San_Francisco 2008-06-09 18:40:43.000000000  \n",
      "4         San_Francisco      0  San_Francisco 2008-06-09 18:39:43.000000000  \n",
      "...                 ...    ...            ...                           ...  \n",
      "33037801           Rome      0           Rome 2010-03-03 22:59:58.282598877  \n",
      "33037802           Rome      0           Rome 2010-03-03 22:59:58.460480957  \n",
      "33037803           Rome      0           Rome 2010-03-03 22:59:58.468371826  \n",
      "33037804           Rome      0           Rome 2010-03-03 22:59:58.886768066  \n",
      "33037805           Rome      0           Rome 2010-03-03 22:59:58.943142822  \n",
      "\n",
      "[33037806 rows x 9 columns]\n"
     ]
    }
   ],
   "source": [
    "merged_dataframe['datetime'] = pd.to_datetime(merged_dataframe['time'],unit='ms')\n",
    "print(merged_dataframe)"
   ]
  },
  {
   "cell_type": "code",
   "execution_count": 111,
   "metadata": {},
   "outputs": [
    {
     "data": {
      "text/html": [
       "<div>\n",
       "<style scoped>\n",
       "    .dataframe tbody tr th:only-of-type {\n",
       "        vertical-align: middle;\n",
       "    }\n",
       "\n",
       "    .dataframe tbody tr th {\n",
       "        vertical-align: top;\n",
       "    }\n",
       "\n",
       "    .dataframe thead th {\n",
       "        text-align: right;\n",
       "    }\n",
       "</style>\n",
       "<table border=\"1\" class=\"dataframe\">\n",
       "  <thead>\n",
       "    <tr style=\"text-align: right;\">\n",
       "      <th></th>\n",
       "      <th>position_id</th>\n",
       "      <th>driver_id</th>\n",
       "      <th>latitude</th>\n",
       "      <th>longitude</th>\n",
       "      <th>source_x</th>\n",
       "      <th>crash</th>\n",
       "      <th>datetime</th>\n",
       "    </tr>\n",
       "  </thead>\n",
       "  <tbody>\n",
       "    <tr>\n",
       "      <th>0</th>\n",
       "      <td>0</td>\n",
       "      <td>adkavy</td>\n",
       "      <td>37.61549</td>\n",
       "      <td>-122.38821</td>\n",
       "      <td>San_Francisco</td>\n",
       "      <td>0</td>\n",
       "      <td>2008-06-09 18:43:48</td>\n",
       "    </tr>\n",
       "    <tr>\n",
       "      <th>1</th>\n",
       "      <td>1</td>\n",
       "      <td>adkavy</td>\n",
       "      <td>37.61562</td>\n",
       "      <td>-122.38849</td>\n",
       "      <td>San_Francisco</td>\n",
       "      <td>0</td>\n",
       "      <td>2008-06-09 18:42:48</td>\n",
       "    </tr>\n",
       "    <tr>\n",
       "      <th>2</th>\n",
       "      <td>2</td>\n",
       "      <td>adkavy</td>\n",
       "      <td>37.61518</td>\n",
       "      <td>-122.39029</td>\n",
       "      <td>San_Francisco</td>\n",
       "      <td>0</td>\n",
       "      <td>2008-06-09 18:41:43</td>\n",
       "    </tr>\n",
       "    <tr>\n",
       "      <th>3</th>\n",
       "      <td>3</td>\n",
       "      <td>adkavy</td>\n",
       "      <td>37.61393</td>\n",
       "      <td>-122.39508</td>\n",
       "      <td>San_Francisco</td>\n",
       "      <td>0</td>\n",
       "      <td>2008-06-09 18:40:43</td>\n",
       "    </tr>\n",
       "    <tr>\n",
       "      <th>4</th>\n",
       "      <td>4</td>\n",
       "      <td>adkavy</td>\n",
       "      <td>37.60493</td>\n",
       "      <td>-122.38362</td>\n",
       "      <td>San_Francisco</td>\n",
       "      <td>0</td>\n",
       "      <td>2008-06-09 18:39:43</td>\n",
       "    </tr>\n",
       "  </tbody>\n",
       "</table>\n",
       "</div>"
      ],
      "text/plain": [
       "   position_id driver_id  latitude  longitude       source_x  crash  \\\n",
       "0            0    adkavy  37.61549 -122.38821  San_Francisco      0   \n",
       "1            1    adkavy  37.61562 -122.38849  San_Francisco      0   \n",
       "2            2    adkavy  37.61518 -122.39029  San_Francisco      0   \n",
       "3            3    adkavy  37.61393 -122.39508  San_Francisco      0   \n",
       "4            4    adkavy  37.60493 -122.38362  San_Francisco      0   \n",
       "\n",
       "             datetime  \n",
       "0 2008-06-09 18:43:48  \n",
       "1 2008-06-09 18:42:48  \n",
       "2 2008-06-09 18:41:43  \n",
       "3 2008-06-09 18:40:43  \n",
       "4 2008-06-09 18:39:43  "
      ]
     },
     "execution_count": 111,
     "metadata": {},
     "output_type": "execute_result"
    }
   ],
   "source": [
    "location_crash_df = merged_dataframe.drop(['source_y', 'time'], axis=1)\n",
    "location_crash_df.head()"
   ]
  },
  {
   "cell_type": "code",
   "execution_count": 152,
   "metadata": {},
   "outputs": [
    {
     "ename": "AttributeError",
     "evalue": "'Series' object has no attribute 'info'",
     "output_type": "error",
     "traceback": [
      "\u001b[0;31m---------------------------------------------------------------------------\u001b[0m",
      "\u001b[0;31mAttributeError\u001b[0m                            Traceback (most recent call last)",
      "\u001b[0;32m<ipython-input-152-0c78f6faa402>\u001b[0m in \u001b[0;36m<module>\u001b[0;34m\u001b[0m\n\u001b[1;32m      1\u001b[0m \u001b[0mdriver_numeric\u001b[0m \u001b[0;34m=\u001b[0m \u001b[0mpd\u001b[0m\u001b[0;34m.\u001b[0m\u001b[0mto_numeric\u001b[0m\u001b[0;34m(\u001b[0m\u001b[0mlocation_crash_df\u001b[0m\u001b[0;34m[\u001b[0m\u001b[0;34m'driver_id'\u001b[0m\u001b[0;34m]\u001b[0m\u001b[0;34m,\u001b[0m \u001b[0merrors\u001b[0m\u001b[0;34m=\u001b[0m\u001b[0;34m'coerce'\u001b[0m\u001b[0;34m)\u001b[0m\u001b[0;34m.\u001b[0m\u001b[0misna\u001b[0m\u001b[0;34m(\u001b[0m\u001b[0;34m)\u001b[0m\u001b[0;34m\u001b[0m\u001b[0;34m\u001b[0m\u001b[0m\n\u001b[1;32m      2\u001b[0m \u001b[0;31m#driver_numeric.loc[driver_numeric['driver_id'] == True].count()\u001b[0m\u001b[0;34m\u001b[0m\u001b[0;34m\u001b[0m\u001b[0;34m\u001b[0m\u001b[0m\n\u001b[0;32m----> 3\u001b[0;31m \u001b[0mdriver_numeric\u001b[0m\u001b[0;34m.\u001b[0m\u001b[0minfo\u001b[0m\u001b[0;34m\u001b[0m\u001b[0;34m\u001b[0m\u001b[0m\n\u001b[0m",
      "\u001b[0;32m~/anaconda3/envs/cartel/lib/python3.6/site-packages/pandas/core/generic.py\u001b[0m in \u001b[0;36m__getattr__\u001b[0;34m(self, name)\u001b[0m\n\u001b[1;32m   5177\u001b[0m             \u001b[0;32mif\u001b[0m \u001b[0mself\u001b[0m\u001b[0;34m.\u001b[0m\u001b[0m_info_axis\u001b[0m\u001b[0;34m.\u001b[0m\u001b[0m_can_hold_identifiers_and_holds_name\u001b[0m\u001b[0;34m(\u001b[0m\u001b[0mname\u001b[0m\u001b[0;34m)\u001b[0m\u001b[0;34m:\u001b[0m\u001b[0;34m\u001b[0m\u001b[0;34m\u001b[0m\u001b[0m\n\u001b[1;32m   5178\u001b[0m                 \u001b[0;32mreturn\u001b[0m \u001b[0mself\u001b[0m\u001b[0;34m[\u001b[0m\u001b[0mname\u001b[0m\u001b[0;34m]\u001b[0m\u001b[0;34m\u001b[0m\u001b[0;34m\u001b[0m\u001b[0m\n\u001b[0;32m-> 5179\u001b[0;31m             \u001b[0;32mreturn\u001b[0m \u001b[0mobject\u001b[0m\u001b[0;34m.\u001b[0m\u001b[0m__getattribute__\u001b[0m\u001b[0;34m(\u001b[0m\u001b[0mself\u001b[0m\u001b[0;34m,\u001b[0m \u001b[0mname\u001b[0m\u001b[0;34m)\u001b[0m\u001b[0;34m\u001b[0m\u001b[0;34m\u001b[0m\u001b[0m\n\u001b[0m\u001b[1;32m   5180\u001b[0m \u001b[0;34m\u001b[0m\u001b[0m\n\u001b[1;32m   5181\u001b[0m     \u001b[0;32mdef\u001b[0m \u001b[0m__setattr__\u001b[0m\u001b[0;34m(\u001b[0m\u001b[0mself\u001b[0m\u001b[0;34m,\u001b[0m \u001b[0mname\u001b[0m\u001b[0;34m,\u001b[0m \u001b[0mvalue\u001b[0m\u001b[0;34m)\u001b[0m\u001b[0;34m:\u001b[0m\u001b[0;34m\u001b[0m\u001b[0;34m\u001b[0m\u001b[0m\n",
      "\u001b[0;31mAttributeError\u001b[0m: 'Series' object has no attribute 'info'"
     ]
    }
   ],
   "source": [
    "driver_numeric = pd.to_numeric(location_crash_df['driver_id'], errors='coerce').isna()\n",
    "#driver_numeric.loc[driver_numeric['driver_id'] == True].count()\n",
    "driver_numeric"
   ]
  },
  {
   "cell_type": "code",
   "execution_count": 153,
   "metadata": {},
   "outputs": [
    {
     "data": {
      "text/plain": [
       "False    21817851\n",
       "True     11219955\n",
       "Name: driver_id, dtype: int64"
      ]
     },
     "execution_count": 153,
     "metadata": {},
     "output_type": "execute_result"
    }
   ],
   "source": [
    "#driver_numeric.loc[driver_numeric['driver_id'] == True].count()\n",
    "driver_numeric.value_counts(sort=False)"
   ]
  },
  {
   "cell_type": "code",
   "execution_count": 155,
   "metadata": {},
   "outputs": [
    {
     "data": {
      "text/plain": [
       "0             NaN\n",
       "1             NaN\n",
       "2             NaN\n",
       "3             NaN\n",
       "4             NaN\n",
       "            ...  \n",
       "33037801    220.0\n",
       "33037802    324.0\n",
       "33037803    266.0\n",
       "33037804    360.0\n",
       "33037805    113.0\n",
       "Name: driver_id, Length: 33037806, dtype: float64"
      ]
     },
     "execution_count": 155,
     "metadata": {},
     "output_type": "execute_result"
    }
   ],
   "source": [
    "driver_numeric_temp = pd.to_numeric(location_crash_df['driver_id'], errors='coerce')\n",
    "driver_numeric_temp"
   ]
  },
  {
   "cell_type": "code",
   "execution_count": 157,
   "metadata": {},
   "outputs": [
    {
     "data": {
      "text/plain": [
       "21817851"
      ]
     },
     "execution_count": 157,
     "metadata": {},
     "output_type": "execute_result"
    }
   ],
   "source": [
    "driver_numeric_temp.dropna().count()"
   ]
  },
  {
   "cell_type": "code",
   "execution_count": 149,
   "metadata": {},
   "outputs": [
    {
     "data": {
      "text/plain": [
       "33037806"
      ]
     },
     "execution_count": 149,
     "metadata": {},
     "output_type": "execute_result"
    }
   ],
   "source": [
    "len(location_crash_df)"
   ]
  },
  {
   "cell_type": "code",
   "execution_count": null,
   "metadata": {},
   "outputs": [],
   "source": [
    "#find driver ids that are numerical\n",
    "location_crash_df.dtypes\n",
    "#df.loc[:, ['A']]\n",
    "driver_value_check = location_crash_df.loc[:, ['driver_id']].applymap(np.isreal)\n",
    "driver_value_check"
   ]
  },
  {
   "cell_type": "code",
   "execution_count": 112,
   "metadata": {},
   "outputs": [
    {
     "data": {
      "text/html": [
       "<div>\n",
       "<style scoped>\n",
       "    .dataframe tbody tr th:only-of-type {\n",
       "        vertical-align: middle;\n",
       "    }\n",
       "\n",
       "    .dataframe tbody tr th {\n",
       "        vertical-align: top;\n",
       "    }\n",
       "\n",
       "    .dataframe thead th {\n",
       "        text-align: right;\n",
       "    }\n",
       "</style>\n",
       "<table border=\"1\" class=\"dataframe\">\n",
       "  <thead>\n",
       "    <tr style=\"text-align: right;\">\n",
       "      <th></th>\n",
       "      <th>position_id</th>\n",
       "      <th>driver_id</th>\n",
       "      <th>latitude</th>\n",
       "      <th>longitude</th>\n",
       "      <th>source_x</th>\n",
       "      <th>datetime</th>\n",
       "    </tr>\n",
       "    <tr>\n",
       "      <th>crash</th>\n",
       "      <th></th>\n",
       "      <th></th>\n",
       "      <th></th>\n",
       "      <th></th>\n",
       "      <th></th>\n",
       "      <th></th>\n",
       "    </tr>\n",
       "  </thead>\n",
       "  <tbody>\n",
       "    <tr>\n",
       "      <th>0</th>\n",
       "      <td>33037533</td>\n",
       "      <td>33037533</td>\n",
       "      <td>33037533</td>\n",
       "      <td>33037533</td>\n",
       "      <td>33037533</td>\n",
       "      <td>33037533</td>\n",
       "    </tr>\n",
       "    <tr>\n",
       "      <th>1</th>\n",
       "      <td>273</td>\n",
       "      <td>273</td>\n",
       "      <td>273</td>\n",
       "      <td>273</td>\n",
       "      <td>273</td>\n",
       "      <td>273</td>\n",
       "    </tr>\n",
       "  </tbody>\n",
       "</table>\n",
       "</div>"
      ],
      "text/plain": [
       "       position_id  driver_id  latitude  longitude  source_x  datetime\n",
       "crash                                                                 \n",
       "0         33037533   33037533  33037533   33037533  33037533  33037533\n",
       "1              273        273       273        273       273       273"
      ]
     },
     "execution_count": 112,
     "metadata": {},
     "output_type": "execute_result"
    }
   ],
   "source": [
    "location_crash_df.groupby('crash').count()"
   ]
  },
  {
   "cell_type": "code",
   "execution_count": 118,
   "metadata": {},
   "outputs": [
    {
     "data": {
      "text/plain": [
       "<matplotlib.axes._subplots.AxesSubplot at 0x7fba8b184d68>"
      ]
     },
     "execution_count": 118,
     "metadata": {},
     "output_type": "execute_result"
    },
    {
     "data": {
      "image/png": "[encoded data removed]",
      "text/plain": [
       "<Figure size 576x396 with 1 Axes>"
      ]
     },
     "metadata": {},
     "output_type": "display_data"
    }
   ],
   "source": [
    "#crashes per hour\n",
    "#location_crash_df['position_id'].groupby([location_crash_df['datetime'].dt.hour]).count()\n",
    "crashes_per_hour = location_crash_df['position_id'].loc[location_crash_df['crash'] == 1].groupby([location_crash_df['datetime'].dt.hour]).count()\n",
    "crashes_per_hour.plot(kind=\"bar\")"
   ]
  },
  {
   "cell_type": "code",
   "execution_count": 140,
   "metadata": {},
   "outputs": [
    {
     "data": {
      "text/html": [
       "<div>\n",
       "<style scoped>\n",
       "    .dataframe tbody tr th:only-of-type {\n",
       "        vertical-align: middle;\n",
       "    }\n",
       "\n",
       "    .dataframe tbody tr th {\n",
       "        vertical-align: top;\n",
       "    }\n",
       "\n",
       "    .dataframe thead th {\n",
       "        text-align: right;\n",
       "    }\n",
       "</style>\n",
       "<table border=\"1\" class=\"dataframe\">\n",
       "  <thead>\n",
       "    <tr style=\"text-align: right;\">\n",
       "      <th></th>\n",
       "      <th>driver_id</th>\n",
       "      <th>counts</th>\n",
       "    </tr>\n",
       "  </thead>\n",
       "  <tbody>\n",
       "    <tr>\n",
       "      <th>100</th>\n",
       "      <td>366</td>\n",
       "      <td>3</td>\n",
       "    </tr>\n",
       "    <tr>\n",
       "      <th>134</th>\n",
       "      <td>edjiye</td>\n",
       "      <td>3</td>\n",
       "    </tr>\n",
       "    <tr>\n",
       "      <th>198</th>\n",
       "      <td>oiphye</td>\n",
       "      <td>3</td>\n",
       "    </tr>\n",
       "    <tr>\n",
       "      <th>108</th>\n",
       "      <td>agjitfa</td>\n",
       "      <td>2</td>\n",
       "    </tr>\n",
       "    <tr>\n",
       "      <th>183</th>\n",
       "      <td>itmeps</td>\n",
       "      <td>2</td>\n",
       "    </tr>\n",
       "    <tr>\n",
       "      <th>...</th>\n",
       "      <td>...</td>\n",
       "      <td>...</td>\n",
       "    </tr>\n",
       "    <tr>\n",
       "      <th>85</th>\n",
       "      <td>310</td>\n",
       "      <td>1</td>\n",
       "    </tr>\n",
       "    <tr>\n",
       "      <th>86</th>\n",
       "      <td>313</td>\n",
       "      <td>1</td>\n",
       "    </tr>\n",
       "    <tr>\n",
       "      <th>87</th>\n",
       "      <td>315</td>\n",
       "      <td>1</td>\n",
       "    </tr>\n",
       "    <tr>\n",
       "      <th>88</th>\n",
       "      <td>318</td>\n",
       "      <td>1</td>\n",
       "    </tr>\n",
       "    <tr>\n",
       "      <th>237</th>\n",
       "      <td>uvreoipy</td>\n",
       "      <td>1</td>\n",
       "    </tr>\n",
       "  </tbody>\n",
       "</table>\n",
       "<p>238 rows × 2 columns</p>\n",
       "</div>"
      ],
      "text/plain": [
       "    driver_id  counts\n",
       "100       366       3\n",
       "134    edjiye       3\n",
       "198    oiphye       3\n",
       "108   agjitfa       2\n",
       "183    itmeps       2\n",
       "..        ...     ...\n",
       "85        310       1\n",
       "86        313       1\n",
       "87        315       1\n",
       "88        318       1\n",
       "237  uvreoipy       1\n",
       "\n",
       "[238 rows x 2 columns]"
      ]
     },
     "execution_count": 140,
     "metadata": {},
     "output_type": "execute_result"
    }
   ],
   "source": [
    "#drivers with most crashes\n",
    "\n",
    "crashes_per_person = location_crash_df['driver_id'].loc[location_crash_df['crash'] == 1].groupby([location_crash_df['driver_id']]).size().reset_index(name='counts')\n",
    "#crashes_per_person.loc[crashes_per_person['counts'] > 1].plot(kind=\"bar\")\n",
    "crashes_per_person.sort_values(['counts'], ascending=False)"
   ]
  },
  {
   "cell_type": "code",
   "execution_count": null,
   "metadata": {},
   "outputs": [],
   "source": []
  },
  {
   "cell_type": "code",
   "execution_count": 2,
   "metadata": {},
   "outputs": [
    {
     "data": {
      "text/html": [
       "<div>\n",
       "<style scoped>\n",
       "    .dataframe tbody tr th:only-of-type {\n",
       "        vertical-align: middle;\n",
       "    }\n",
       "\n",
       "    .dataframe tbody tr th {\n",
       "        vertical-align: top;\n",
       "    }\n",
       "\n",
       "    .dataframe thead th {\n",
       "        text-align: right;\n",
       "    }\n",
       "</style>\n",
       "<table border=\"1\" class=\"dataframe\">\n",
       "  <thead>\n",
       "    <tr style=\"text-align: right;\">\n",
       "      <th></th>\n",
       "      <th>position_id</th>\n",
       "      <th>driver_id</th>\n",
       "      <th>latitude</th>\n",
       "      <th>longitude</th>\n",
       "      <th>time</th>\n",
       "      <th>source</th>\n",
       "    </tr>\n",
       "  </thead>\n",
       "  <tbody>\n",
       "    <tr>\n",
       "      <th>0</th>\n",
       "      <td>0</td>\n",
       "      <td>adkavy</td>\n",
       "      <td>37.61549</td>\n",
       "      <td>-122.38821</td>\n",
       "      <td>1213037028000</td>\n",
       "      <td>San_Francisco</td>\n",
       "    </tr>\n",
       "    <tr>\n",
       "      <th>1</th>\n",
       "      <td>1</td>\n",
       "      <td>adkavy</td>\n",
       "      <td>37.61562</td>\n",
       "      <td>-122.38849</td>\n",
       "      <td>1213036968000</td>\n",
       "      <td>San_Francisco</td>\n",
       "    </tr>\n",
       "    <tr>\n",
       "      <th>2</th>\n",
       "      <td>2</td>\n",
       "      <td>adkavy</td>\n",
       "      <td>37.61518</td>\n",
       "      <td>-122.39029</td>\n",
       "      <td>1213036903000</td>\n",
       "      <td>San_Francisco</td>\n",
       "    </tr>\n",
       "    <tr>\n",
       "      <th>3</th>\n",
       "      <td>3</td>\n",
       "      <td>adkavy</td>\n",
       "      <td>37.61393</td>\n",
       "      <td>-122.39508</td>\n",
       "      <td>1213036843000</td>\n",
       "      <td>San_Francisco</td>\n",
       "    </tr>\n",
       "    <tr>\n",
       "      <th>4</th>\n",
       "      <td>4</td>\n",
       "      <td>adkavy</td>\n",
       "      <td>37.60493</td>\n",
       "      <td>-122.38362</td>\n",
       "      <td>1213036783000</td>\n",
       "      <td>San_Francisco</td>\n",
       "    </tr>\n",
       "  </tbody>\n",
       "</table>\n",
       "</div>"
      ],
      "text/plain": [
       "   position_id driver_id  latitude  longitude           time         source\n",
       "0            0    adkavy  37.61549 -122.38821  1213037028000  San_Francisco\n",
       "1            1    adkavy  37.61562 -122.38849  1213036968000  San_Francisco\n",
       "2            2    adkavy  37.61518 -122.39029  1213036903000  San_Francisco\n",
       "3            3    adkavy  37.61393 -122.39508  1213036843000  San_Francisco\n",
       "4            4    adkavy  37.60493 -122.38362  1213036783000  San_Francisco"
      ]
     },
     "execution_count": 2,
     "metadata": {},
     "output_type": "execute_result"
    }
   ],
   "source": [
    "import pandas as pd\n",
    "\n",
    "sf_location.head()"
   ]
  },
  {
   "cell_type": "code",
   "execution_count": 9,
   "metadata": {},
   "outputs": [
    {
     "ename": "ValidationError",
     "evalue": "\n\u001b[31mValidation Failed\n\u001b[0m\u001b[31mdefender.pandas_rules.NotMissing(columns=time, pass_ratio=1.0)\u001b[0m\u001b[31m\nErrors:\n\u001b[0m* `NotMissing` failed for column `time`   |   failed count: 3 (0.00%), max allowed: 0 (0.00%)\n  Bad examples: [nan]\n  Bad ilocs: [23, 29, 55]",
     "output_type": "error",
     "traceback": [
      "\u001b[0;31m---------------------------------------------------------------------------\u001b[0m",
      "\u001b[0;31mValidationError\u001b[0m                           Traceback (most recent call last)",
      "\u001b[0;32m<ipython-input-9-f9570f7622ce>\u001b[0m in \u001b[0;36m<module>\u001b[0;34m\u001b[0m\n\u001b[1;32m      2\u001b[0m \u001b[0;34m\u001b[0m\u001b[0m\n\u001b[1;32m      3\u001b[0m \u001b[0mrule\u001b[0m   \u001b[0;34m=\u001b[0m \u001b[0mNotMissing\u001b[0m\u001b[0;34m(\u001b[0m\u001b[0mcolumns\u001b[0m\u001b[0;34m=\u001b[0m\u001b[0;34m'time'\u001b[0m\u001b[0;34m)\u001b[0m\u001b[0;34m\u001b[0m\u001b[0;34m\u001b[0m\u001b[0m\n\u001b[0;32m----> 4\u001b[0;31m \u001b[0mresult\u001b[0m \u001b[0;34m=\u001b[0m \u001b[0mrule\u001b[0m\u001b[0;34m.\u001b[0m\u001b[0mvalidate\u001b[0m\u001b[0;34m(\u001b[0m\u001b[0msf_location\u001b[0m\u001b[0;34m)\u001b[0m            \u001b[0;31m# rule.validate() -> ValidationResult\u001b[0m\u001b[0;34m\u001b[0m\u001b[0;34m\u001b[0m\u001b[0m\n\u001b[0m",
      "\u001b[0;32m~/anaconda3/envs/cartel/lib/python3.6/site-packages/defender/validation/rules.py\u001b[0m in \u001b[0;36mvalidate\u001b[0;34m(self, data, silent)\u001b[0m\n\u001b[1;32m    231\u001b[0m \u001b[0;34m\u001b[0m\u001b[0m\n\u001b[1;32m    232\u001b[0m         \u001b[0;32mif\u001b[0m \u001b[0;32mnot\u001b[0m \u001b[0msilent\u001b[0m \u001b[0;32mand\u001b[0m \u001b[0mself\u001b[0m\u001b[0;34m.\u001b[0m\u001b[0m_raise_exc\u001b[0m \u001b[0;32mand\u001b[0m \u001b[0;32mnot\u001b[0m \u001b[0mresult\u001b[0m\u001b[0;34m:\u001b[0m\u001b[0;34m\u001b[0m\u001b[0;34m\u001b[0m\u001b[0m\n\u001b[0;32m--> 233\u001b[0;31m             \u001b[0;32mraise\u001b[0m \u001b[0mValidationError\u001b[0m\u001b[0;34m(\u001b[0m\u001b[0mvalidation_result\u001b[0m\u001b[0;34m=\u001b[0m\u001b[0mresult\u001b[0m\u001b[0;34m)\u001b[0m\u001b[0;34m\u001b[0m\u001b[0;34m\u001b[0m\u001b[0m\n\u001b[0m\u001b[1;32m    234\u001b[0m \u001b[0;34m\u001b[0m\u001b[0m\n\u001b[1;32m    235\u001b[0m         \u001b[0;32mif\u001b[0m \u001b[0;32mnot\u001b[0m \u001b[0msilent\u001b[0m \u001b[0;32mand\u001b[0m \u001b[0mself\u001b[0m\u001b[0;34m.\u001b[0m\u001b[0m_logging_enabled\u001b[0m \u001b[0;32mand\u001b[0m \u001b[0;32mnot\u001b[0m \u001b[0mresult\u001b[0m\u001b[0;34m:\u001b[0m\u001b[0;34m\u001b[0m\u001b[0;34m\u001b[0m\u001b[0m\n",
      "\u001b[0;31mValidationError\u001b[0m: \n\u001b[31mValidation Failed\n\u001b[0m\u001b[31mdefender.pandas_rules.NotMissing(columns=time, pass_ratio=1.0)\u001b[0m\u001b[31m\nErrors:\n\u001b[0m* `NotMissing` failed for column `time`   |   failed count: 3 (0.00%), max allowed: 0 (0.00%)\n  Bad examples: [nan]\n  Bad ilocs: [23, 29, 55]"
     ]
    }
   ],
   "source": [
    "from defender.pandas_rules import NotMissing\n",
    "\n",
    "rule   = NotMissing(columns='time')\n",
    "result = rule.validate(sf_location)            # rule.validate() -> ValidationResult"
   ]
  },
  {
   "cell_type": "code",
   "execution_count": 5,
   "metadata": {},
   "outputs": [
    {
     "name": "stdout",
     "output_type": "stream",
     "text": [
      "👌\n",
      "\u001b[32mValidation Successful\n",
      "\u001b[0m\u001b[32mdefender.pandas_rules.NotMissing(columns=time, pass_ratio=1.0)\u001b[0m\n"
     ]
    }
   ],
   "source": [
    "if result:\n",
    "    print(\"👌\")   # success\n",
    "    print(result)\n",
    "else:\n",
    "    print(\"💩\")   # failure\n",
    "    print(result)"
   ]
  },
  {
   "cell_type": "code",
   "execution_count": 6,
   "metadata": {},
   "outputs": [],
   "source": [
    "assert result"
   ]
  },
  {
   "cell_type": "code",
   "execution_count": 10,
   "metadata": {},
   "outputs": [
    {
     "name": "stdout",
     "output_type": "stream",
     "text": [
      "\u001b[31mValidation Failed\n",
      "\u001b[0m\u001b[31mdefender.pandas_rules.NotMissing(pass_ratio=1.0)\u001b[0m\u001b[31m\n",
      "Errors:\n",
      "\u001b[0m* `NotMissing` failed for column `driver_id`   |   failed count: 2 (0.00%), max allowed: 0 (0.00%)\n",
      "  Bad examples: [nan]\n",
      "  Bad ilocs: [25, 53]\n",
      "* `NotMissing` failed for column `latitude`   |   failed count: 1 (0.00%), max allowed: 0 (0.00%)\n",
      "  Bad examples: [nan]\n",
      "  Bad ilocs: [15]\n",
      "* `NotMissing` failed for column `longitude`   |   failed count: 1 (0.00%), max allowed: 0 (0.00%)\n",
      "  Bad examples: [nan]\n",
      "  Bad ilocs: [10]\n",
      "* `NotMissing` failed for column `time`   |   failed count: 3 (0.00%), max allowed: 0 (0.00%)\n",
      "  Bad examples: [nan]\n",
      "  Bad ilocs: [23, 29, 55]\n",
      "* `NotMissing` failed for column `source`   |   failed count: 1 (0.00%), max allowed: 0 (0.00%)\n",
      "  Bad examples: [nan]\n",
      "  Bad ilocs: [18]\n"
     ]
    }
   ],
   "source": [
    "rule   = NotMissing()\n",
    "result = rule.validate(sf_location, silent=True)\n",
    "\n",
    "print(result)"
   ]
  },
  {
   "cell_type": "code",
   "execution_count": null,
   "metadata": {},
   "outputs": [],
   "source": []
  }
 ],
 "metadata": {
  "kernelspec": {
   "display_name": "cartel",
   "language": "python",
   "name": "python3"
  },
  "language_info": {
   "codemirror_mode": {
    "name": "ipython",
    "version": 3
   },
   "file_extension": ".py",
   "mimetype": "text/x-python",
   "name": "python",
   "nbconvert_exporter": "python",
   "pygments_lexer": "ipython3",
   "version": "3.6.10"
  }
 },
 "nbformat": 4,
 "nbformat_minor": 4
}
